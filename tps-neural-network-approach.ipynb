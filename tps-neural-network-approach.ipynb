{
 "cells": [
  {
   "cell_type": "code",
   "execution_count": 1,
   "id": "fd013606",
   "metadata": {
    "_cell_guid": "b1076dfc-b9ad-4769-8c92-a6c4dae69d19",
    "_uuid": "8f2839f25d086af736a60e9eeb907d3b93b6e0e5",
    "execution": {
     "iopub.execute_input": "2022-08-19T07:15:40.477448Z",
     "iopub.status.busy": "2022-08-19T07:15:40.476820Z",
     "iopub.status.idle": "2022-08-19T07:15:49.462160Z",
     "shell.execute_reply": "2022-08-19T07:15:49.460808Z"
    },
    "papermill": {
     "duration": 9.002571,
     "end_time": "2022-08-19T07:15:49.465143",
     "exception": false,
     "start_time": "2022-08-19T07:15:40.462572",
     "status": "completed"
    },
    "tags": []
   },
   "outputs": [
    {
     "name": "stdout",
     "output_type": "stream",
     "text": [
      "/kaggle/input/tabular-playground-series-aug-2022/sample_submission.csv\n",
      "/kaggle/input/tabular-playground-series-aug-2022/train.csv\n",
      "/kaggle/input/tabular-playground-series-aug-2022/test.csv\n"
     ]
    }
   ],
   "source": [
    "\n",
    "\n",
    "\n",
    "# This Python 3 environment comes with many helpful analytics libraries installed\n",
    "# It is defined by the kaggle/python Docker image: https://github.com/kaggle/docker-python\n",
    "# For example, here's several helpful packages to load\n",
    "\n",
    "import numpy as np # linear algebra\n",
    "import pandas as pd # data processing, CSV file I/O (e.g. pd.read_csv)\n",
    "import tensorflow as tf\n",
    "\n",
    "from tensorflow import keras\n",
    "from tensorflow.keras import layers, callbacks\n",
    "from sklearn.model_selection import train_test_split\n",
    "from sklearn.pipeline import make_pipeline\n",
    "from sklearn.preprocessing import StandardScaler\n",
    "from matplotlib import pyplot as plt \n",
    "import seaborn as sns\n",
    "from sklearn import svm\n",
    "import pickle\n",
    "\n",
    "# Input data files are available in the read-only \"../input/\" directory\n",
    "# For example, running this (by clicking run or pressing Shift+Enter) will list all files under the input directory\n",
    "\n",
    "import os\n",
    "for dirname, _, filenames in os.walk('/kaggle/input'):\n",
    "    for filename in filenames:\n",
    "        print(os.path.join(dirname, filename))\n",
    "\n",
    "# You can write up to 20GB to the current directory (/kaggle/working/) that gets preserved as output when you create a version using \"Save & Run All\" \n",
    "# You can also write temporary files to /kaggle/temp/, but they won't be saved outside of the current session"
   ]
  },
  {
   "cell_type": "markdown",
   "id": "45e6673a",
   "metadata": {
    "papermill": {
     "duration": 0.009591,
     "end_time": "2022-08-19T07:15:49.485643",
     "exception": false,
     "start_time": "2022-08-19T07:15:49.476052",
     "status": "completed"
    },
    "tags": []
   },
   "source": [
    "# Reading all the required dataset  #    \n"
   ]
  },
  {
   "cell_type": "code",
   "execution_count": 2,
   "id": "8aca6513",
   "metadata": {
    "execution": {
     "iopub.execute_input": "2022-08-19T07:15:49.508412Z",
     "iopub.status.busy": "2022-08-19T07:15:49.506937Z",
     "iopub.status.idle": "2022-08-19T07:15:49.924407Z",
     "shell.execute_reply": "2022-08-19T07:15:49.923201Z"
    },
    "papermill": {
     "duration": 0.431471,
     "end_time": "2022-08-19T07:15:49.927288",
     "exception": false,
     "start_time": "2022-08-19T07:15:49.495817",
     "status": "completed"
    },
    "tags": []
   },
   "outputs": [],
   "source": [
    "\n",
    "df_train = pd.read_csv('../input/tabular-playground-series-aug-2022/train.csv')\n",
    "df_test =  pd.read_csv('../input/tabular-playground-series-aug-2022/test.csv')"
   ]
  },
  {
   "cell_type": "markdown",
   "id": "7f4e764e",
   "metadata": {
    "papermill": {
     "duration": 0.010208,
     "end_time": "2022-08-19T07:15:49.947605",
     "exception": false,
     "start_time": "2022-08-19T07:15:49.937397",
     "status": "completed"
    },
    "tags": []
   },
   "source": [
    "# Target Dataset"
   ]
  },
  {
   "cell_type": "code",
   "execution_count": 3,
   "id": "07b81e3f",
   "metadata": {
    "execution": {
     "iopub.execute_input": "2022-08-19T07:15:49.972762Z",
     "iopub.status.busy": "2022-08-19T07:15:49.972303Z",
     "iopub.status.idle": "2022-08-19T07:15:49.991479Z",
     "shell.execute_reply": "2022-08-19T07:15:49.990412Z"
    },
    "papermill": {
     "duration": 0.035202,
     "end_time": "2022-08-19T07:15:49.994403",
     "exception": false,
     "start_time": "2022-08-19T07:15:49.959201",
     "status": "completed"
    },
    "tags": []
   },
   "outputs": [],
   "source": [
    "\n",
    "\n",
    "sample = pd.read_csv('../input/tabular-playground-series-aug-2022/sample_submission.csv')"
   ]
  },
  {
   "cell_type": "code",
   "execution_count": 4,
   "id": "b398a810",
   "metadata": {
    "execution": {
     "iopub.execute_input": "2022-08-19T07:15:50.018816Z",
     "iopub.status.busy": "2022-08-19T07:15:50.018095Z",
     "iopub.status.idle": "2022-08-19T07:15:50.028106Z",
     "shell.execute_reply": "2022-08-19T07:15:50.026866Z"
    },
    "papermill": {
     "duration": 0.025052,
     "end_time": "2022-08-19T07:15:50.030883",
     "exception": false,
     "start_time": "2022-08-19T07:15:50.005831",
     "status": "completed"
    },
    "tags": []
   },
   "outputs": [
    {
     "data": {
      "text/plain": [
       "Index(['id', 'failure'], dtype='object')"
      ]
     },
     "execution_count": 4,
     "metadata": {},
     "output_type": "execute_result"
    }
   ],
   "source": [
    "sample.columns  # To check what is it "
   ]
  },
  {
   "cell_type": "code",
   "execution_count": 5,
   "id": "b6d91ce5",
   "metadata": {
    "execution": {
     "iopub.execute_input": "2022-08-19T07:15:50.053321Z",
     "iopub.status.busy": "2022-08-19T07:15:50.052245Z",
     "iopub.status.idle": "2022-08-19T07:15:50.059244Z",
     "shell.execute_reply": "2022-08-19T07:15:50.058135Z"
    },
    "papermill": {
     "duration": 0.020593,
     "end_time": "2022-08-19T07:15:50.061510",
     "exception": false,
     "start_time": "2022-08-19T07:15:50.040917",
     "status": "completed"
    },
    "tags": []
   },
   "outputs": [
    {
     "data": {
      "text/plain": [
       "((26570, 26), (20775, 25))"
      ]
     },
     "execution_count": 5,
     "metadata": {},
     "output_type": "execute_result"
    }
   ],
   "source": [
    "df_train.shape,df_test.shape  # To check shape"
   ]
  },
  {
   "cell_type": "code",
   "execution_count": 6,
   "id": "3a971953",
   "metadata": {
    "execution": {
     "iopub.execute_input": "2022-08-19T07:15:50.086035Z",
     "iopub.status.busy": "2022-08-19T07:15:50.084680Z",
     "iopub.status.idle": "2022-08-19T07:15:50.096783Z",
     "shell.execute_reply": "2022-08-19T07:15:50.095753Z"
    },
    "papermill": {
     "duration": 0.027303,
     "end_time": "2022-08-19T07:15:50.099406",
     "exception": false,
     "start_time": "2022-08-19T07:15:50.072103",
     "status": "completed"
    },
    "tags": []
   },
   "outputs": [],
   "source": [
    "Y = df_train['failure'] # Target Variable is created"
   ]
  },
  {
   "cell_type": "markdown",
   "id": "e62e9331",
   "metadata": {
    "papermill": {
     "duration": 0.009678,
     "end_time": "2022-08-19T07:15:50.119413",
     "exception": false,
     "start_time": "2022-08-19T07:15:50.109735",
     "status": "completed"
    },
    "tags": []
   },
   "source": [
    "# Lets combine the dataset for better EDA"
   ]
  },
  {
   "cell_type": "code",
   "execution_count": 7,
   "id": "101c97b4",
   "metadata": {
    "execution": {
     "iopub.execute_input": "2022-08-19T07:15:50.141736Z",
     "iopub.status.busy": "2022-08-19T07:15:50.140879Z",
     "iopub.status.idle": "2022-08-19T07:15:50.165762Z",
     "shell.execute_reply": "2022-08-19T07:15:50.164690Z"
    },
    "papermill": {
     "duration": 0.03923,
     "end_time": "2022-08-19T07:15:50.168613",
     "exception": false,
     "start_time": "2022-08-19T07:15:50.129383",
     "status": "completed"
    },
    "tags": []
   },
   "outputs": [],
   "source": [
    "\n",
    "df_total = pd.concat([df_train,df_test])  # Better approach is together combine the data ....."
   ]
  },
  {
   "cell_type": "code",
   "execution_count": 8,
   "id": "9596b0c6",
   "metadata": {
    "execution": {
     "iopub.execute_input": "2022-08-19T07:15:50.191471Z",
     "iopub.status.busy": "2022-08-19T07:15:50.191030Z",
     "iopub.status.idle": "2022-08-19T07:15:50.198455Z",
     "shell.execute_reply": "2022-08-19T07:15:50.197494Z"
    },
    "papermill": {
     "duration": 0.02111,
     "end_time": "2022-08-19T07:15:50.200626",
     "exception": false,
     "start_time": "2022-08-19T07:15:50.179516",
     "status": "completed"
    },
    "tags": []
   },
   "outputs": [
    {
     "data": {
      "text/plain": [
       "Index(['id', 'product_code', 'loading', 'attribute_0', 'attribute_1',\n",
       "       'attribute_2', 'attribute_3', 'measurement_0', 'measurement_1',\n",
       "       'measurement_2', 'measurement_3', 'measurement_4', 'measurement_5',\n",
       "       'measurement_6', 'measurement_7', 'measurement_8', 'measurement_9',\n",
       "       'measurement_10', 'measurement_11', 'measurement_12', 'measurement_13',\n",
       "       'measurement_14', 'measurement_15', 'measurement_16', 'measurement_17',\n",
       "       'failure'],\n",
       "      dtype='object')"
      ]
     },
     "execution_count": 8,
     "metadata": {},
     "output_type": "execute_result"
    }
   ],
   "source": [
    "df_total.columns # After combing check the data"
   ]
  },
  {
   "cell_type": "code",
   "execution_count": 9,
   "id": "a64bac14",
   "metadata": {
    "execution": {
     "iopub.execute_input": "2022-08-19T07:15:50.223438Z",
     "iopub.status.busy": "2022-08-19T07:15:50.222600Z",
     "iopub.status.idle": "2022-08-19T07:15:50.235544Z",
     "shell.execute_reply": "2022-08-19T07:15:50.234336Z"
    },
    "papermill": {
     "duration": 0.027235,
     "end_time": "2022-08-19T07:15:50.238065",
     "exception": false,
     "start_time": "2022-08-19T07:15:50.210830",
     "status": "completed"
    },
    "tags": []
   },
   "outputs": [
    {
     "data": {
      "text/plain": [
       "0.0    20921\n",
       "1.0     5649\n",
       "Name: failure, dtype: int64"
      ]
     },
     "execution_count": 9,
     "metadata": {},
     "output_type": "execute_result"
    }
   ],
   "source": [
    "df_total['failure'].value_counts() # hmmm Data imbalace for target"
   ]
  },
  {
   "cell_type": "code",
   "execution_count": 10,
   "id": "dc7d779b",
   "metadata": {
    "execution": {
     "iopub.execute_input": "2022-08-19T07:15:50.261208Z",
     "iopub.status.busy": "2022-08-19T07:15:50.260459Z",
     "iopub.status.idle": "2022-08-19T07:15:50.273394Z",
     "shell.execute_reply": "2022-08-19T07:15:50.272037Z"
    },
    "papermill": {
     "duration": 0.027653,
     "end_time": "2022-08-19T07:15:50.275969",
     "exception": false,
     "start_time": "2022-08-19T07:15:50.248316",
     "status": "completed"
    },
    "tags": []
   },
   "outputs": [
    {
     "data": {
      "text/plain": [
       "array(['A', 'B', 'C', 'D', 'E', 'F', 'G', 'H', 'I'], dtype=object)"
      ]
     },
     "execution_count": 10,
     "metadata": {},
     "output_type": "execute_result"
    }
   ],
   "source": [
    "df_total['product_code'].unique()  "
   ]
  },
  {
   "cell_type": "code",
   "execution_count": 11,
   "id": "50861f6d",
   "metadata": {
    "execution": {
     "iopub.execute_input": "2022-08-19T07:15:50.298859Z",
     "iopub.status.busy": "2022-08-19T07:15:50.298109Z",
     "iopub.status.idle": "2022-08-19T07:15:50.325267Z",
     "shell.execute_reply": "2022-08-19T07:15:50.324208Z"
    },
    "papermill": {
     "duration": 0.041716,
     "end_time": "2022-08-19T07:15:50.328055",
     "exception": false,
     "start_time": "2022-08-19T07:15:50.286339",
     "status": "completed"
    },
    "tags": []
   },
   "outputs": [],
   "source": [
    "X= df_total.drop(['id','failure','product_code'],axis=1) # Drop kar detey hai inko \n",
    "# May be not so usefull in prediction"
   ]
  },
  {
   "cell_type": "code",
   "execution_count": 12,
   "id": "22a00aa3",
   "metadata": {
    "execution": {
     "iopub.execute_input": "2022-08-19T07:15:50.350370Z",
     "iopub.status.busy": "2022-08-19T07:15:50.349984Z",
     "iopub.status.idle": "2022-08-19T07:15:50.365885Z",
     "shell.execute_reply": "2022-08-19T07:15:50.365010Z"
    },
    "papermill": {
     "duration": 0.029639,
     "end_time": "2022-08-19T07:15:50.368060",
     "exception": false,
     "start_time": "2022-08-19T07:15:50.338421",
     "status": "completed"
    },
    "tags": []
   },
   "outputs": [
    {
     "data": {
      "text/plain": [
       "loading            473\n",
       "attribute_0          0\n",
       "attribute_1          0\n",
       "attribute_2          0\n",
       "attribute_3          0\n",
       "measurement_0        0\n",
       "measurement_1        0\n",
       "measurement_2        0\n",
       "measurement_3      710\n",
       "measurement_4      947\n",
       "measurement_5     1184\n",
       "measurement_6     1420\n",
       "measurement_7     1657\n",
       "measurement_8     1894\n",
       "measurement_9     2131\n",
       "measurement_10    2367\n",
       "measurement_11    2604\n",
       "measurement_12    2841\n",
       "measurement_13    3077\n",
       "measurement_14    3314\n",
       "measurement_15    3551\n",
       "measurement_16    3788\n",
       "measurement_17    4024\n",
       "dtype: int64"
      ]
     },
     "execution_count": 12,
     "metadata": {},
     "output_type": "execute_result"
    }
   ],
   "source": [
    "X.isnull().sum() # to check for null in the whole data"
   ]
  },
  {
   "cell_type": "code",
   "execution_count": 13,
   "id": "d151ac20",
   "metadata": {
    "execution": {
     "iopub.execute_input": "2022-08-19T07:15:50.391744Z",
     "iopub.status.busy": "2022-08-19T07:15:50.391039Z",
     "iopub.status.idle": "2022-08-19T07:15:50.416177Z",
     "shell.execute_reply": "2022-08-19T07:15:50.414909Z"
    },
    "papermill": {
     "duration": 0.041128,
     "end_time": "2022-08-19T07:15:50.419677",
     "exception": false,
     "start_time": "2022-08-19T07:15:50.378549",
     "status": "completed"
    },
    "tags": []
   },
   "outputs": [
    {
     "name": "stdout",
     "output_type": "stream",
     "text": [
      "<class 'pandas.core.frame.DataFrame'>\n",
      "Int64Index: 47345 entries, 0 to 20774\n",
      "Data columns (total 23 columns):\n",
      " #   Column          Non-Null Count  Dtype  \n",
      "---  ------          --------------  -----  \n",
      " 0   loading         46872 non-null  float64\n",
      " 1   attribute_0     47345 non-null  object \n",
      " 2   attribute_1     47345 non-null  object \n",
      " 3   attribute_2     47345 non-null  int64  \n",
      " 4   attribute_3     47345 non-null  int64  \n",
      " 5   measurement_0   47345 non-null  int64  \n",
      " 6   measurement_1   47345 non-null  int64  \n",
      " 7   measurement_2   47345 non-null  int64  \n",
      " 8   measurement_3   46635 non-null  float64\n",
      " 9   measurement_4   46398 non-null  float64\n",
      " 10  measurement_5   46161 non-null  float64\n",
      " 11  measurement_6   45925 non-null  float64\n",
      " 12  measurement_7   45688 non-null  float64\n",
      " 13  measurement_8   45451 non-null  float64\n",
      " 14  measurement_9   45214 non-null  float64\n",
      " 15  measurement_10  44978 non-null  float64\n",
      " 16  measurement_11  44741 non-null  float64\n",
      " 17  measurement_12  44504 non-null  float64\n",
      " 18  measurement_13  44268 non-null  float64\n",
      " 19  measurement_14  44031 non-null  float64\n",
      " 20  measurement_15  43794 non-null  float64\n",
      " 21  measurement_16  43557 non-null  float64\n",
      " 22  measurement_17  43321 non-null  float64\n",
      "dtypes: float64(16), int64(5), object(2)\n",
      "memory usage: 8.7+ MB\n"
     ]
    }
   ],
   "source": [
    "X.info() # To check on data"
   ]
  },
  {
   "cell_type": "markdown",
   "id": "adad7af0",
   "metadata": {
    "papermill": {
     "duration": 0.010295,
     "end_time": "2022-08-19T07:15:50.441223",
     "exception": false,
     "start_time": "2022-08-19T07:15:50.430928",
     "status": "completed"
    },
    "tags": []
   },
   "source": [
    "# Preprocessing step"
   ]
  },
  {
   "cell_type": "code",
   "execution_count": 14,
   "id": "3b9291e6",
   "metadata": {
    "execution": {
     "iopub.execute_input": "2022-08-19T07:15:50.464377Z",
     "iopub.status.busy": "2022-08-19T07:15:50.463723Z",
     "iopub.status.idle": "2022-08-19T07:15:50.472151Z",
     "shell.execute_reply": "2022-08-19T07:15:50.471079Z"
    },
    "papermill": {
     "duration": 0.022972,
     "end_time": "2022-08-19T07:15:50.474686",
     "exception": false,
     "start_time": "2022-08-19T07:15:50.451714",
     "status": "completed"
    },
    "tags": []
   },
   "outputs": [],
   "source": [
    "# From the above pre-processing we can see\n",
    "# Custom function to take care of missing values in numeric and non numeric dataset\n",
    "# Luxury terms are mostly skewed towards zero\n",
    "# Lets pre-process the whole data set\n",
    "\n",
    "from sklearn.base import TransformerMixin\n",
    "import pandas as pd\n",
    "import numpy as np\n",
    "\n",
    "class DataFrameImputer(TransformerMixin):\n",
    "\n",
    "    def __init__(self):\n",
    "        \"\"\"Impute missing values.\n",
    "\n",
    "        Columns of dtype object are imputed with the most frequent value \n",
    "        in column.\n",
    "\n",
    "        Columns of other types are imputed with mean of column.\n",
    "\n",
    "        \"\"\"\n",
    "    def fit(self, X, y=None):\n",
    "\n",
    "        self.fill = pd.Series([X[c].value_counts().index[0]\n",
    "            if X[c].dtype == np.dtype('O') else X[c].median() for c in X],\n",
    "            index=X.columns)\n",
    "\n",
    "        return self\n",
    "\n",
    "    def transform(self, X, y=None):\n",
    "      \n",
    "        return X.fillna(self.fill)"
   ]
  },
  {
   "cell_type": "code",
   "execution_count": 15,
   "id": "24ae41c0",
   "metadata": {
    "execution": {
     "iopub.execute_input": "2022-08-19T07:15:50.498447Z",
     "iopub.status.busy": "2022-08-19T07:15:50.497798Z",
     "iopub.status.idle": "2022-08-19T07:15:50.556758Z",
     "shell.execute_reply": "2022-08-19T07:15:50.555512Z"
    },
    "papermill": {
     "duration": 0.074109,
     "end_time": "2022-08-19T07:15:50.559516",
     "exception": false,
     "start_time": "2022-08-19T07:15:50.485407",
     "status": "completed"
    },
    "tags": []
   },
   "outputs": [],
   "source": [
    "df_tr = pd.DataFrame(X)  # Function is called on whole dataset\n",
    "df_final = DataFrameImputer().fit_transform(df_tr)"
   ]
  },
  {
   "cell_type": "code",
   "execution_count": 16,
   "id": "77ff10ef",
   "metadata": {
    "execution": {
     "iopub.execute_input": "2022-08-19T07:15:50.583392Z",
     "iopub.status.busy": "2022-08-19T07:15:50.582315Z",
     "iopub.status.idle": "2022-08-19T07:15:50.605328Z",
     "shell.execute_reply": "2022-08-19T07:15:50.603457Z"
    },
    "papermill": {
     "duration": 0.038118,
     "end_time": "2022-08-19T07:15:50.608316",
     "exception": false,
     "start_time": "2022-08-19T07:15:50.570198",
     "status": "completed"
    },
    "tags": []
   },
   "outputs": [
    {
     "name": "stdout",
     "output_type": "stream",
     "text": [
      "<class 'pandas.core.frame.DataFrame'>\n",
      "Int64Index: 47345 entries, 0 to 20774\n",
      "Data columns (total 23 columns):\n",
      " #   Column          Non-Null Count  Dtype  \n",
      "---  ------          --------------  -----  \n",
      " 0   loading         47345 non-null  float64\n",
      " 1   attribute_0     47345 non-null  object \n",
      " 2   attribute_1     47345 non-null  object \n",
      " 3   attribute_2     47345 non-null  int64  \n",
      " 4   attribute_3     47345 non-null  int64  \n",
      " 5   measurement_0   47345 non-null  int64  \n",
      " 6   measurement_1   47345 non-null  int64  \n",
      " 7   measurement_2   47345 non-null  int64  \n",
      " 8   measurement_3   47345 non-null  float64\n",
      " 9   measurement_4   47345 non-null  float64\n",
      " 10  measurement_5   47345 non-null  float64\n",
      " 11  measurement_6   47345 non-null  float64\n",
      " 12  measurement_7   47345 non-null  float64\n",
      " 13  measurement_8   47345 non-null  float64\n",
      " 14  measurement_9   47345 non-null  float64\n",
      " 15  measurement_10  47345 non-null  float64\n",
      " 16  measurement_11  47345 non-null  float64\n",
      " 17  measurement_12  47345 non-null  float64\n",
      " 18  measurement_13  47345 non-null  float64\n",
      " 19  measurement_14  47345 non-null  float64\n",
      " 20  measurement_15  47345 non-null  float64\n",
      " 21  measurement_16  47345 non-null  float64\n",
      " 22  measurement_17  47345 non-null  float64\n",
      "dtypes: float64(16), int64(5), object(2)\n",
      "memory usage: 8.7+ MB\n"
     ]
    }
   ],
   "source": [
    "df_final.info()  "
   ]
  },
  {
   "cell_type": "code",
   "execution_count": 17,
   "id": "a20d80b8",
   "metadata": {
    "execution": {
     "iopub.execute_input": "2022-08-19T07:15:50.632349Z",
     "iopub.status.busy": "2022-08-19T07:15:50.631235Z",
     "iopub.status.idle": "2022-08-19T07:15:50.821919Z",
     "shell.execute_reply": "2022-08-19T07:15:50.820673Z"
    },
    "papermill": {
     "duration": 0.205512,
     "end_time": "2022-08-19T07:15:50.824730",
     "exception": false,
     "start_time": "2022-08-19T07:15:50.619218",
     "status": "completed"
    },
    "tags": []
   },
   "outputs": [
    {
     "data": {
      "text/html": [
       "<style type=\"text/css\">\n",
       "#T_ea72e_row0_col0, #T_ea72e_row1_col1, #T_ea72e_row2_col2, #T_ea72e_row3_col3, #T_ea72e_row4_col4, #T_ea72e_row5_col5, #T_ea72e_row6_col6, #T_ea72e_row7_col7, #T_ea72e_row8_col8, #T_ea72e_row9_col9, #T_ea72e_row10_col10, #T_ea72e_row11_col11, #T_ea72e_row12_col12, #T_ea72e_row13_col13, #T_ea72e_row14_col14, #T_ea72e_row15_col15, #T_ea72e_row16_col16, #T_ea72e_row17_col17, #T_ea72e_row18_col18, #T_ea72e_row19_col19, #T_ea72e_row20_col20, #T_ea72e_row21_col21, #T_ea72e_row22_col22 {\n",
       "  background-color: #b40426;\n",
       "  color: #f1f1f1;\n",
       "}\n",
       "#T_ea72e_row0_col1, #T_ea72e_row0_col10, #T_ea72e_row1_col10, #T_ea72e_row2_col7, #T_ea72e_row2_col9, #T_ea72e_row2_col21, #T_ea72e_row3_col16, #T_ea72e_row4_col11, #T_ea72e_row4_col21, #T_ea72e_row6_col11, #T_ea72e_row7_col9, #T_ea72e_row7_col10, #T_ea72e_row7_col12, #T_ea72e_row7_col13, #T_ea72e_row9_col8, #T_ea72e_row9_col10, #T_ea72e_row10_col1, #T_ea72e_row10_col7, #T_ea72e_row10_col13, #T_ea72e_row11_col7, #T_ea72e_row11_col10, #T_ea72e_row11_col12, #T_ea72e_row12_col8, #T_ea72e_row13_col7, #T_ea72e_row13_col10, #T_ea72e_row13_col11, #T_ea72e_row14_col11, #T_ea72e_row14_col22, #T_ea72e_row17_col1, #T_ea72e_row17_col7, #T_ea72e_row17_col22, #T_ea72e_row18_col9, #T_ea72e_row19_col21, #T_ea72e_row20_col8, #T_ea72e_row20_col12 {\n",
       "  background-color: #3f53c6;\n",
       "  color: #f1f1f1;\n",
       "}\n",
       "#T_ea72e_row0_col2, #T_ea72e_row0_col9, #T_ea72e_row0_col16, #T_ea72e_row1_col8, #T_ea72e_row1_col9, #T_ea72e_row1_col13, #T_ea72e_row2_col0, #T_ea72e_row2_col1, #T_ea72e_row2_col3, #T_ea72e_row2_col5, #T_ea72e_row2_col8, #T_ea72e_row2_col19, #T_ea72e_row3_col4, #T_ea72e_row3_col14, #T_ea72e_row3_col22, #T_ea72e_row4_col6, #T_ea72e_row5_col7, #T_ea72e_row5_col9, #T_ea72e_row5_col11, #T_ea72e_row6_col8, #T_ea72e_row6_col10, #T_ea72e_row6_col21, #T_ea72e_row8_col1, #T_ea72e_row11_col9, #T_ea72e_row14_col8, #T_ea72e_row15_col12, #T_ea72e_row15_col17, #T_ea72e_row15_col18, #T_ea72e_row15_col21, #T_ea72e_row16_col10, #T_ea72e_row16_col13, #T_ea72e_row17_col9, #T_ea72e_row17_col15, #T_ea72e_row17_col21, #T_ea72e_row18_col13, #T_ea72e_row18_col20, #T_ea72e_row19_col1, #T_ea72e_row19_col7, #T_ea72e_row19_col9, #T_ea72e_row19_col16, #T_ea72e_row20_col18, #T_ea72e_row22_col8 {\n",
       "  background-color: #3b4cc0;\n",
       "  color: #f1f1f1;\n",
       "}\n",
       "#T_ea72e_row0_col3 {\n",
       "  background-color: #f7a889;\n",
       "  color: #000000;\n",
       "}\n",
       "#T_ea72e_row0_col4, #T_ea72e_row1_col14, #T_ea72e_row1_col18, #T_ea72e_row4_col20, #T_ea72e_row5_col4, #T_ea72e_row6_col15, #T_ea72e_row7_col15, #T_ea72e_row7_col18, #T_ea72e_row8_col15, #T_ea72e_row8_col17, #T_ea72e_row8_col20, #T_ea72e_row10_col15, #T_ea72e_row10_col17, #T_ea72e_row11_col17, #T_ea72e_row11_col18, #T_ea72e_row12_col20, #T_ea72e_row13_col14, #T_ea72e_row21_col18, #T_ea72e_row22_col15, #T_ea72e_row22_col17, #T_ea72e_row22_col20 {\n",
       "  background-color: #5470de;\n",
       "  color: #f1f1f1;\n",
       "}\n",
       "#T_ea72e_row0_col5, #T_ea72e_row5_col3 {\n",
       "  background-color: #ecd3c5;\n",
       "  color: #000000;\n",
       "}\n",
       "#T_ea72e_row0_col6, #T_ea72e_row1_col6, #T_ea72e_row7_col6, #T_ea72e_row9_col6, #T_ea72e_row12_col6, #T_ea72e_row16_col6, #T_ea72e_row19_col6, #T_ea72e_row21_col15, #T_ea72e_row21_col17 {\n",
       "  background-color: #516ddb;\n",
       "  color: #f1f1f1;\n",
       "}\n",
       "#T_ea72e_row0_col7, #T_ea72e_row0_col11, #T_ea72e_row1_col7, #T_ea72e_row3_col9, #T_ea72e_row4_col1, #T_ea72e_row4_col7, #T_ea72e_row4_col8, #T_ea72e_row7_col1, #T_ea72e_row9_col1, #T_ea72e_row9_col13, #T_ea72e_row12_col9, #T_ea72e_row13_col1, #T_ea72e_row13_col9, #T_ea72e_row14_col1, #T_ea72e_row14_col7, #T_ea72e_row14_col13, #T_ea72e_row15_col7, #T_ea72e_row15_col13, #T_ea72e_row16_col19, #T_ea72e_row16_col21, #T_ea72e_row17_col10, #T_ea72e_row17_col12, #T_ea72e_row17_col13, #T_ea72e_row19_col13, #T_ea72e_row20_col9, #T_ea72e_row20_col10, #T_ea72e_row20_col11, #T_ea72e_row22_col13 {\n",
       "  background-color: #3c4ec2;\n",
       "  color: #f1f1f1;\n",
       "}\n",
       "#T_ea72e_row0_col8, #T_ea72e_row2_col11, #T_ea72e_row2_col22, #T_ea72e_row3_col20, #T_ea72e_row18_col22, #T_ea72e_row22_col9, #T_ea72e_row22_col10 {\n",
       "  background-color: #4257c9;\n",
       "  color: #f1f1f1;\n",
       "}\n",
       "#T_ea72e_row0_col12, #T_ea72e_row0_col13, #T_ea72e_row0_col21, #T_ea72e_row1_col11, #T_ea72e_row1_col21, #T_ea72e_row2_col12, #T_ea72e_row4_col9, #T_ea72e_row4_col10, #T_ea72e_row5_col1, #T_ea72e_row5_col8, #T_ea72e_row5_col12, #T_ea72e_row5_col13, #T_ea72e_row6_col1, #T_ea72e_row6_col12, #T_ea72e_row6_col13, #T_ea72e_row8_col9, #T_ea72e_row8_col10, #T_ea72e_row8_col11, #T_ea72e_row10_col8, #T_ea72e_row10_col9, #T_ea72e_row10_col12, #T_ea72e_row11_col13, #T_ea72e_row12_col7, #T_ea72e_row13_col12, #T_ea72e_row13_col22, #T_ea72e_row14_col21, #T_ea72e_row15_col1, #T_ea72e_row15_col9, #T_ea72e_row15_col22, #T_ea72e_row16_col7, #T_ea72e_row16_col12, #T_ea72e_row17_col11, #T_ea72e_row18_col1, #T_ea72e_row18_col7, #T_ea72e_row18_col21, #T_ea72e_row19_col11, #T_ea72e_row19_col22, #T_ea72e_row21_col1, #T_ea72e_row22_col7 {\n",
       "  background-color: #3e51c5;\n",
       "  color: #f1f1f1;\n",
       "}\n",
       "#T_ea72e_row0_col14, #T_ea72e_row3_col15, #T_ea72e_row19_col15 {\n",
       "  background-color: #4e68d8;\n",
       "  color: #f1f1f1;\n",
       "}\n",
       "#T_ea72e_row0_col15, #T_ea72e_row5_col17, #T_ea72e_row6_col18, #T_ea72e_row14_col6, #T_ea72e_row19_col18, #T_ea72e_row20_col14 {\n",
       "  background-color: #5875e1;\n",
       "  color: #f1f1f1;\n",
       "}\n",
       "#T_ea72e_row0_col17, #T_ea72e_row21_col22 {\n",
       "  background-color: #4a63d3;\n",
       "  color: #f1f1f1;\n",
       "}\n",
       "#T_ea72e_row0_col18, #T_ea72e_row6_col22, #T_ea72e_row10_col22, #T_ea72e_row19_col12, #T_ea72e_row22_col11, #T_ea72e_row22_col12 {\n",
       "  background-color: #445acc;\n",
       "  color: #f1f1f1;\n",
       "}\n",
       "#T_ea72e_row0_col19, #T_ea72e_row16_col5 {\n",
       "  background-color: #80a3fa;\n",
       "  color: #f1f1f1;\n",
       "}\n",
       "#T_ea72e_row0_col20, #T_ea72e_row3_col8, #T_ea72e_row4_col22 {\n",
       "  background-color: #4358cb;\n",
       "  color: #f1f1f1;\n",
       "}\n",
       "#T_ea72e_row0_col22, #T_ea72e_row1_col12, #T_ea72e_row2_col10, #T_ea72e_row2_col13, #T_ea72e_row3_col1, #T_ea72e_row3_col7, #T_ea72e_row3_col10, #T_ea72e_row3_col11, #T_ea72e_row3_col12, #T_ea72e_row3_col13, #T_ea72e_row3_col21, #T_ea72e_row4_col12, #T_ea72e_row5_col10, #T_ea72e_row5_col21, #T_ea72e_row5_col22, #T_ea72e_row6_col7, #T_ea72e_row6_col9, #T_ea72e_row8_col22, #T_ea72e_row9_col11, #T_ea72e_row9_col12, #T_ea72e_row11_col1, #T_ea72e_row11_col8, #T_ea72e_row12_col1, #T_ea72e_row12_col10, #T_ea72e_row12_col13, #T_ea72e_row14_col9, #T_ea72e_row14_col10, #T_ea72e_row14_col12, #T_ea72e_row15_col8, #T_ea72e_row15_col10, #T_ea72e_row15_col11, #T_ea72e_row16_col1, #T_ea72e_row16_col8, #T_ea72e_row16_col9, #T_ea72e_row17_col8, #T_ea72e_row18_col8, #T_ea72e_row18_col10, #T_ea72e_row18_col12, #T_ea72e_row18_col15, #T_ea72e_row19_col8, #T_ea72e_row19_col10, #T_ea72e_row20_col1, #T_ea72e_row20_col7, #T_ea72e_row20_col13, #T_ea72e_row20_col21 {\n",
       "  background-color: #3d50c3;\n",
       "  color: #f1f1f1;\n",
       "}\n",
       "#T_ea72e_row1_col0, #T_ea72e_row7_col2, #T_ea72e_row9_col2, #T_ea72e_row12_col0, #T_ea72e_row13_col0, #T_ea72e_row21_col2, #T_ea72e_row22_col2 {\n",
       "  background-color: #c9d7f0;\n",
       "  color: #000000;\n",
       "}\n",
       "#T_ea72e_row1_col2, #T_ea72e_row8_col2, #T_ea72e_row9_col0, #T_ea72e_row11_col0, #T_ea72e_row22_col0 {\n",
       "  background-color: #c6d6f1;\n",
       "  color: #000000;\n",
       "}\n",
       "#T_ea72e_row1_col3, #T_ea72e_row7_col3, #T_ea72e_row10_col3, #T_ea72e_row13_col3, #T_ea72e_row21_col3 {\n",
       "  background-color: #afcafc;\n",
       "  color: #000000;\n",
       "}\n",
       "#T_ea72e_row1_col4, #T_ea72e_row7_col4, #T_ea72e_row7_col5, #T_ea72e_row12_col4, #T_ea72e_row18_col5, #T_ea72e_row22_col5 {\n",
       "  background-color: #93b5fe;\n",
       "  color: #000000;\n",
       "}\n",
       "#T_ea72e_row1_col5, #T_ea72e_row8_col5, #T_ea72e_row12_col5, #T_ea72e_row13_col4, #T_ea72e_row22_col4 {\n",
       "  background-color: #96b7ff;\n",
       "  color: #000000;\n",
       "}\n",
       "#T_ea72e_row1_col15, #T_ea72e_row1_col17, #T_ea72e_row4_col19, #T_ea72e_row7_col17, #T_ea72e_row7_col21, #T_ea72e_row9_col14, #T_ea72e_row9_col15, #T_ea72e_row9_col18, #T_ea72e_row10_col14, #T_ea72e_row11_col14, #T_ea72e_row14_col19, #T_ea72e_row18_col6, #T_ea72e_row18_col17, #T_ea72e_row21_col7, #T_ea72e_row21_col14, #T_ea72e_row22_col6, #T_ea72e_row22_col14 {\n",
       "  background-color: #5673e0;\n",
       "  color: #f1f1f1;\n",
       "}\n",
       "#T_ea72e_row1_col16, #T_ea72e_row1_col19, #T_ea72e_row2_col17, #T_ea72e_row6_col16, #T_ea72e_row7_col19, #T_ea72e_row8_col16, #T_ea72e_row9_col19, #T_ea72e_row12_col16 {\n",
       "  background-color: #6384eb;\n",
       "  color: #f1f1f1;\n",
       "}\n",
       "#T_ea72e_row1_col20, #T_ea72e_row5_col6, #T_ea72e_row5_col20, #T_ea72e_row7_col20, #T_ea72e_row8_col14, #T_ea72e_row8_col18, #T_ea72e_row9_col17, #T_ea72e_row9_col20, #T_ea72e_row10_col18, #T_ea72e_row10_col20, #T_ea72e_row11_col6, #T_ea72e_row11_col15, #T_ea72e_row12_col17, #T_ea72e_row12_col18, #T_ea72e_row13_col6, #T_ea72e_row13_col15, #T_ea72e_row13_col17, #T_ea72e_row13_col20, #T_ea72e_row21_col20 {\n",
       "  background-color: #536edd;\n",
       "  color: #f1f1f1;\n",
       "}\n",
       "#T_ea72e_row1_col22 {\n",
       "  background-color: #688aef;\n",
       "  color: #f1f1f1;\n",
       "}\n",
       "#T_ea72e_row2_col4, #T_ea72e_row18_col0 {\n",
       "  background-color: #bfd3f6;\n",
       "  color: #000000;\n",
       "}\n",
       "#T_ea72e_row2_col6, #T_ea72e_row6_col14, #T_ea72e_row19_col20, #T_ea72e_row20_col6 {\n",
       "  background-color: #5b7ae5;\n",
       "  color: #f1f1f1;\n",
       "}\n",
       "#T_ea72e_row2_col14, #T_ea72e_row3_col6, #T_ea72e_row4_col5, #T_ea72e_row4_col15, #T_ea72e_row7_col14, #T_ea72e_row12_col14, #T_ea72e_row14_col20, #T_ea72e_row16_col17, #T_ea72e_row17_col18, #T_ea72e_row22_col18 {\n",
       "  background-color: #5572df;\n",
       "  color: #f1f1f1;\n",
       "}\n",
       "#T_ea72e_row2_col15 {\n",
       "  background-color: #7295f4;\n",
       "  color: #f1f1f1;\n",
       "}\n",
       "#T_ea72e_row2_col16 {\n",
       "  background-color: #a9c6fd;\n",
       "  color: #000000;\n",
       "}\n",
       "#T_ea72e_row2_col18, #T_ea72e_row4_col18, #T_ea72e_row5_col14, #T_ea72e_row17_col6 {\n",
       "  background-color: #5a78e4;\n",
       "  color: #f1f1f1;\n",
       "}\n",
       "#T_ea72e_row2_col20, #T_ea72e_row3_col2, #T_ea72e_row6_col17, #T_ea72e_row14_col17, #T_ea72e_row15_col19, #T_ea72e_row19_col17 {\n",
       "  background-color: #5e7de7;\n",
       "  color: #f1f1f1;\n",
       "}\n",
       "#T_ea72e_row3_col0 {\n",
       "  background-color: #f49a7b;\n",
       "  color: #000000;\n",
       "}\n",
       "#T_ea72e_row3_col5 {\n",
       "  background-color: #e0dbd8;\n",
       "  color: #000000;\n",
       "}\n",
       "#T_ea72e_row3_col17, #T_ea72e_row4_col3, #T_ea72e_row6_col20, #T_ea72e_row18_col16 {\n",
       "  background-color: #5d7ce6;\n",
       "  color: #f1f1f1;\n",
       "}\n",
       "#T_ea72e_row3_col18, #T_ea72e_row9_col22, #T_ea72e_row11_col22, #T_ea72e_row12_col22 {\n",
       "  background-color: #455cce;\n",
       "  color: #f1f1f1;\n",
       "}\n",
       "#T_ea72e_row3_col19 {\n",
       "  background-color: #9ebeff;\n",
       "  color: #000000;\n",
       "}\n",
       "#T_ea72e_row4_col0, #T_ea72e_row6_col5, #T_ea72e_row13_col5, #T_ea72e_row17_col5 {\n",
       "  background-color: #97b8ff;\n",
       "  color: #000000;\n",
       "}\n",
       "#T_ea72e_row4_col2 {\n",
       "  background-color: #e3d9d3;\n",
       "  color: #000000;\n",
       "}\n",
       "#T_ea72e_row4_col13, #T_ea72e_row7_col8, #T_ea72e_row7_col11, #T_ea72e_row7_col22, #T_ea72e_row8_col7, #T_ea72e_row8_col12, #T_ea72e_row8_col13, #T_ea72e_row9_col7, #T_ea72e_row10_col11, #T_ea72e_row12_col11, #T_ea72e_row13_col8, #T_ea72e_row16_col11, #T_ea72e_row16_col22, #T_ea72e_row18_col11, #T_ea72e_row20_col22 {\n",
       "  background-color: #4055c8;\n",
       "  color: #f1f1f1;\n",
       "}\n",
       "#T_ea72e_row4_col14, #T_ea72e_row10_col16 {\n",
       "  background-color: #6180e9;\n",
       "  color: #f1f1f1;\n",
       "}\n",
       "#T_ea72e_row4_col16, #T_ea72e_row17_col19, #T_ea72e_row20_col19 {\n",
       "  background-color: #6e90f2;\n",
       "  color: #f1f1f1;\n",
       "}\n",
       "#T_ea72e_row4_col17, #T_ea72e_row5_col15, #T_ea72e_row14_col15 {\n",
       "  background-color: #4b64d5;\n",
       "  color: #f1f1f1;\n",
       "}\n",
       "#T_ea72e_row5_col0 {\n",
       "  background-color: #f7bca1;\n",
       "  color: #000000;\n",
       "}\n",
       "#T_ea72e_row5_col2, #T_ea72e_row6_col4, #T_ea72e_row15_col16, #T_ea72e_row20_col17 {\n",
       "  background-color: #7ea1fa;\n",
       "  color: #f1f1f1;\n",
       "}\n",
       "#T_ea72e_row5_col16, #T_ea72e_row15_col14, #T_ea72e_row16_col18 {\n",
       "  background-color: #4c66d6;\n",
       "  color: #f1f1f1;\n",
       "}\n",
       "#T_ea72e_row5_col18, #T_ea72e_row11_col20, #T_ea72e_row12_col15, #T_ea72e_row13_col18, #T_ea72e_row15_col6 {\n",
       "  background-color: #506bda;\n",
       "  color: #f1f1f1;\n",
       "}\n",
       "#T_ea72e_row5_col19 {\n",
       "  background-color: #779af7;\n",
       "  color: #f1f1f1;\n",
       "}\n",
       "#T_ea72e_row6_col0, #T_ea72e_row7_col0, #T_ea72e_row10_col2, #T_ea72e_row12_col2, #T_ea72e_row13_col2, #T_ea72e_row14_col2, #T_ea72e_row21_col0 {\n",
       "  background-color: #c7d7f0;\n",
       "  color: #000000;\n",
       "}\n",
       "#T_ea72e_row6_col2 {\n",
       "  background-color: #cdd9ec;\n",
       "  color: #000000;\n",
       "}\n",
       "#T_ea72e_row6_col3 {\n",
       "  background-color: #b2ccfb;\n",
       "  color: #000000;\n",
       "}\n",
       "#T_ea72e_row6_col19, #T_ea72e_row10_col19, #T_ea72e_row22_col1 {\n",
       "  background-color: #6687ed;\n",
       "  color: #f1f1f1;\n",
       "}\n",
       "#T_ea72e_row7_col16, #T_ea72e_row8_col19, #T_ea72e_row9_col16, #T_ea72e_row11_col16, #T_ea72e_row11_col19, #T_ea72e_row13_col19, #T_ea72e_row17_col16, #T_ea72e_row22_col16, #T_ea72e_row22_col19 {\n",
       "  background-color: #6485ec;\n",
       "  color: #f1f1f1;\n",
       "}\n",
       "#T_ea72e_row8_col0, #T_ea72e_row10_col0, #T_ea72e_row11_col2, #T_ea72e_row15_col0 {\n",
       "  background-color: #cad8ef;\n",
       "  color: #000000;\n",
       "}\n",
       "#T_ea72e_row8_col3 {\n",
       "  background-color: #b3cdfb;\n",
       "  color: #000000;\n",
       "}\n",
       "#T_ea72e_row8_col4, #T_ea72e_row11_col5, #T_ea72e_row16_col3 {\n",
       "  background-color: #92b4fe;\n",
       "  color: #000000;\n",
       "}\n",
       "#T_ea72e_row8_col6, #T_ea72e_row10_col6, #T_ea72e_row21_col6 {\n",
       "  background-color: #4f69d9;\n",
       "  color: #f1f1f1;\n",
       "}\n",
       "#T_ea72e_row8_col21, #T_ea72e_row21_col8 {\n",
       "  background-color: #7da0f9;\n",
       "  color: #f1f1f1;\n",
       "}\n",
       "#T_ea72e_row9_col3, #T_ea72e_row11_col3, #T_ea72e_row12_col3 {\n",
       "  background-color: #aec9fc;\n",
       "  color: #000000;\n",
       "}\n",
       "#T_ea72e_row9_col4, #T_ea72e_row9_col5, #T_ea72e_row10_col4, #T_ea72e_row10_col5, #T_ea72e_row11_col4, #T_ea72e_row15_col4, #T_ea72e_row20_col4, #T_ea72e_row20_col5, #T_ea72e_row21_col4, #T_ea72e_row21_col5 {\n",
       "  background-color: #94b6ff;\n",
       "  color: #000000;\n",
       "}\n",
       "#T_ea72e_row9_col21 {\n",
       "  background-color: #d2dbe8;\n",
       "  color: #000000;\n",
       "}\n",
       "#T_ea72e_row10_col21, #T_ea72e_row11_col21, #T_ea72e_row16_col0, #T_ea72e_row22_col3 {\n",
       "  background-color: #abc8fd;\n",
       "  color: #000000;\n",
       "}\n",
       "#T_ea72e_row12_col19, #T_ea72e_row21_col13 {\n",
       "  background-color: #6b8df0;\n",
       "  color: #f1f1f1;\n",
       "}\n",
       "#T_ea72e_row12_col21 {\n",
       "  background-color: #dcdddd;\n",
       "  color: #000000;\n",
       "}\n",
       "#T_ea72e_row13_col16, #T_ea72e_row18_col14, #T_ea72e_row21_col16 {\n",
       "  background-color: #6282ea;\n",
       "  color: #f1f1f1;\n",
       "}\n",
       "#T_ea72e_row13_col21, #T_ea72e_row14_col16 {\n",
       "  background-color: #6c8ff1;\n",
       "  color: #f1f1f1;\n",
       "}\n",
       "#T_ea72e_row14_col0 {\n",
       "  background-color: #c3d5f4;\n",
       "  color: #000000;\n",
       "}\n",
       "#T_ea72e_row14_col3, #T_ea72e_row14_col5 {\n",
       "  background-color: #98b9ff;\n",
       "  color: #000000;\n",
       "}\n",
       "#T_ea72e_row14_col4, #T_ea72e_row16_col4 {\n",
       "  background-color: #9dbdff;\n",
       "  color: #000000;\n",
       "}\n",
       "#T_ea72e_row14_col18, #T_ea72e_row16_col14, #T_ea72e_row17_col14 {\n",
       "  background-color: #5f7fe8;\n",
       "  color: #f1f1f1;\n",
       "}\n",
       "#T_ea72e_row15_col2 {\n",
       "  background-color: #d7dce3;\n",
       "  color: #000000;\n",
       "}\n",
       "#T_ea72e_row15_col3, #T_ea72e_row19_col2, #T_ea72e_row21_col10 {\n",
       "  background-color: #aac7fd;\n",
       "  color: #000000;\n",
       "}\n",
       "#T_ea72e_row15_col5, #T_ea72e_row17_col4 {\n",
       "  background-color: #8caffe;\n",
       "  color: #000000;\n",
       "}\n",
       "#T_ea72e_row15_col20 {\n",
       "  background-color: #6f92f3;\n",
       "  color: #f1f1f1;\n",
       "}\n",
       "#T_ea72e_row16_col2 {\n",
       "  background-color: #ead4c8;\n",
       "  color: #000000;\n",
       "}\n",
       "#T_ea72e_row16_col15, #T_ea72e_row16_col20, #T_ea72e_row20_col15 {\n",
       "  background-color: #7093f3;\n",
       "  color: #f1f1f1;\n",
       "}\n",
       "#T_ea72e_row17_col0 {\n",
       "  background-color: #c1d4f4;\n",
       "  color: #000000;\n",
       "}\n",
       "#T_ea72e_row17_col2, #T_ea72e_row21_col9 {\n",
       "  background-color: #d1dae9;\n",
       "  color: #000000;\n",
       "}\n",
       "#T_ea72e_row17_col3 {\n",
       "  background-color: #b6cefa;\n",
       "  color: #000000;\n",
       "}\n",
       "#T_ea72e_row17_col20 {\n",
       "  background-color: #7b9ff9;\n",
       "  color: #f1f1f1;\n",
       "}\n",
       "#T_ea72e_row18_col2 {\n",
       "  background-color: #ccd9ed;\n",
       "  color: #000000;\n",
       "}\n",
       "#T_ea72e_row18_col3, #T_ea72e_row19_col5 {\n",
       "  background-color: #a5c3fe;\n",
       "  color: #000000;\n",
       "}\n",
       "#T_ea72e_row18_col4 {\n",
       "  background-color: #9abbff;\n",
       "  color: #000000;\n",
       "}\n",
       "#T_ea72e_row18_col19 {\n",
       "  background-color: #6a8bef;\n",
       "  color: #f1f1f1;\n",
       "}\n",
       "#T_ea72e_row19_col0 {\n",
       "  background-color: #d6dce4;\n",
       "  color: #000000;\n",
       "}\n",
       "#T_ea72e_row19_col3 {\n",
       "  background-color: #d5dbe5;\n",
       "  color: #000000;\n",
       "}\n",
       "#T_ea72e_row19_col4 {\n",
       "  background-color: #85a8fc;\n",
       "  color: #f1f1f1;\n",
       "}\n",
       "#T_ea72e_row19_col14 {\n",
       "  background-color: #465ecf;\n",
       "  color: #f1f1f1;\n",
       "}\n",
       "#T_ea72e_row20_col0 {\n",
       "  background-color: #bed2f6;\n",
       "  color: #000000;\n",
       "}\n",
       "#T_ea72e_row20_col2 {\n",
       "  background-color: #cedaeb;\n",
       "  color: #000000;\n",
       "}\n",
       "#T_ea72e_row20_col3 {\n",
       "  background-color: #a2c1ff;\n",
       "  color: #000000;\n",
       "}\n",
       "#T_ea72e_row20_col16 {\n",
       "  background-color: #81a4fb;\n",
       "  color: #f1f1f1;\n",
       "}\n",
       "#T_ea72e_row21_col11 {\n",
       "  background-color: #adc9fd;\n",
       "  color: #000000;\n",
       "}\n",
       "#T_ea72e_row21_col12 {\n",
       "  background-color: #dddcdc;\n",
       "  color: #000000;\n",
       "}\n",
       "#T_ea72e_row21_col19 {\n",
       "  background-color: #6788ee;\n",
       "  color: #f1f1f1;\n",
       "}\n",
       "#T_ea72e_row22_col21 {\n",
       "  background-color: #485fd1;\n",
       "  color: #f1f1f1;\n",
       "}\n",
       "</style>\n",
       "<table id=\"T_ea72e_\">\n",
       "  <thead>\n",
       "    <tr>\n",
       "      <th class=\"blank level0\" >&nbsp;</th>\n",
       "      <th class=\"col_heading level0 col0\" >id</th>\n",
       "      <th class=\"col_heading level0 col1\" >loading</th>\n",
       "      <th class=\"col_heading level0 col2\" >attribute_2</th>\n",
       "      <th class=\"col_heading level0 col3\" >attribute_3</th>\n",
       "      <th class=\"col_heading level0 col4\" >measurement_0</th>\n",
       "      <th class=\"col_heading level0 col5\" >measurement_1</th>\n",
       "      <th class=\"col_heading level0 col6\" >measurement_2</th>\n",
       "      <th class=\"col_heading level0 col7\" >measurement_3</th>\n",
       "      <th class=\"col_heading level0 col8\" >measurement_4</th>\n",
       "      <th class=\"col_heading level0 col9\" >measurement_5</th>\n",
       "      <th class=\"col_heading level0 col10\" >measurement_6</th>\n",
       "      <th class=\"col_heading level0 col11\" >measurement_7</th>\n",
       "      <th class=\"col_heading level0 col12\" >measurement_8</th>\n",
       "      <th class=\"col_heading level0 col13\" >measurement_9</th>\n",
       "      <th class=\"col_heading level0 col14\" >measurement_10</th>\n",
       "      <th class=\"col_heading level0 col15\" >measurement_11</th>\n",
       "      <th class=\"col_heading level0 col16\" >measurement_12</th>\n",
       "      <th class=\"col_heading level0 col17\" >measurement_13</th>\n",
       "      <th class=\"col_heading level0 col18\" >measurement_14</th>\n",
       "      <th class=\"col_heading level0 col19\" >measurement_15</th>\n",
       "      <th class=\"col_heading level0 col20\" >measurement_16</th>\n",
       "      <th class=\"col_heading level0 col21\" >measurement_17</th>\n",
       "      <th class=\"col_heading level0 col22\" >failure</th>\n",
       "    </tr>\n",
       "  </thead>\n",
       "  <tbody>\n",
       "    <tr>\n",
       "      <th id=\"T_ea72e_level0_row0\" class=\"row_heading level0 row0\" >id</th>\n",
       "      <td id=\"T_ea72e_row0_col0\" class=\"data row0 col0\" >1.000000</td>\n",
       "      <td id=\"T_ea72e_row0_col1\" class=\"data row0 col1\" >0.004305</td>\n",
       "      <td id=\"T_ea72e_row0_col2\" class=\"data row0 col2\" >-0.741200</td>\n",
       "      <td id=\"T_ea72e_row0_col3\" class=\"data row0 col3\" >0.558881</td>\n",
       "      <td id=\"T_ea72e_row0_col4\" class=\"data row0 col4\" >-0.253626</td>\n",
       "      <td id=\"T_ea72e_row0_col5\" class=\"data row0 col5\" >0.400206</td>\n",
       "      <td id=\"T_ea72e_row0_col6\" class=\"data row0 col6\" >0.000128</td>\n",
       "      <td id=\"T_ea72e_row0_col7\" class=\"data row0 col7\" >-0.005923</td>\n",
       "      <td id=\"T_ea72e_row0_col8\" class=\"data row0 col8\" >0.011313</td>\n",
       "      <td id=\"T_ea72e_row0_col9\" class=\"data row0 col9\" >-0.007001</td>\n",
       "      <td id=\"T_ea72e_row0_col10\" class=\"data row0 col10\" >0.008734</td>\n",
       "      <td id=\"T_ea72e_row0_col11\" class=\"data row0 col11\" >-0.011881</td>\n",
       "      <td id=\"T_ea72e_row0_col12\" class=\"data row0 col12\" >0.000437</td>\n",
       "      <td id=\"T_ea72e_row0_col13\" class=\"data row0 col13\" >0.001550</td>\n",
       "      <td id=\"T_ea72e_row0_col14\" class=\"data row0 col14\" >-0.029611</td>\n",
       "      <td id=\"T_ea72e_row0_col15\" class=\"data row0 col15\" >0.009524</td>\n",
       "      <td id=\"T_ea72e_row0_col16\" class=\"data row0 col16\" >-0.151220</td>\n",
       "      <td id=\"T_ea72e_row0_col17\" class=\"data row0 col17\" >-0.037559</td>\n",
       "      <td id=\"T_ea72e_row0_col18\" class=\"data row0 col18\" >-0.053744</td>\n",
       "      <td id=\"T_ea72e_row0_col19\" class=\"data row0 col19\" >0.083951</td>\n",
       "      <td id=\"T_ea72e_row0_col20\" class=\"data row0 col20\" >-0.059849</td>\n",
       "      <td id=\"T_ea72e_row0_col21\" class=\"data row0 col21\" >-0.000983</td>\n",
       "      <td id=\"T_ea72e_row0_col22\" class=\"data row0 col22\" >-0.007545</td>\n",
       "    </tr>\n",
       "    <tr>\n",
       "      <th id=\"T_ea72e_level0_row1\" class=\"row_heading level0 row1\" >loading</th>\n",
       "      <td id=\"T_ea72e_row1_col0\" class=\"data row1 col0\" >0.004305</td>\n",
       "      <td id=\"T_ea72e_row1_col1\" class=\"data row1 col1\" >1.000000</td>\n",
       "      <td id=\"T_ea72e_row1_col2\" class=\"data row1 col2\" >-0.008208</td>\n",
       "      <td id=\"T_ea72e_row1_col3\" class=\"data row1 col3\" >-0.000756</td>\n",
       "      <td id=\"T_ea72e_row1_col4\" class=\"data row1 col4\" >-0.005578</td>\n",
       "      <td id=\"T_ea72e_row1_col5\" class=\"data row1 col5\" >0.002532</td>\n",
       "      <td id=\"T_ea72e_row1_col6\" class=\"data row1 col6\" >0.000303</td>\n",
       "      <td id=\"T_ea72e_row1_col7\" class=\"data row1 col7\" >-0.005203</td>\n",
       "      <td id=\"T_ea72e_row1_col8\" class=\"data row1 col8\" >-0.011792</td>\n",
       "      <td id=\"T_ea72e_row1_col9\" class=\"data row1 col9\" >-0.005599</td>\n",
       "      <td id=\"T_ea72e_row1_col10\" class=\"data row1 col10\" >0.007310</td>\n",
       "      <td id=\"T_ea72e_row1_col11\" class=\"data row1 col11\" >-0.001773</td>\n",
       "      <td id=\"T_ea72e_row1_col12\" class=\"data row1 col12\" >-0.002998</td>\n",
       "      <td id=\"T_ea72e_row1_col13\" class=\"data row1 col13\" >-0.007751</td>\n",
       "      <td id=\"T_ea72e_row1_col14\" class=\"data row1 col14\" >-0.007525</td>\n",
       "      <td id=\"T_ea72e_row1_col15\" class=\"data row1 col15\" >0.003594</td>\n",
       "      <td id=\"T_ea72e_row1_col16\" class=\"data row1 col16\" >-0.002407</td>\n",
       "      <td id=\"T_ea72e_row1_col17\" class=\"data row1 col17\" >0.006138</td>\n",
       "      <td id=\"T_ea72e_row1_col18\" class=\"data row1 col18\" >0.000120</td>\n",
       "      <td id=\"T_ea72e_row1_col19\" class=\"data row1 col19\" >-0.008087</td>\n",
       "      <td id=\"T_ea72e_row1_col20\" class=\"data row1 col20\" >-0.000633</td>\n",
       "      <td id=\"T_ea72e_row1_col21\" class=\"data row1 col21\" >0.000305</td>\n",
       "      <td id=\"T_ea72e_row1_col22\" class=\"data row1 col22\" >0.129089</td>\n",
       "    </tr>\n",
       "    <tr>\n",
       "      <th id=\"T_ea72e_level0_row2\" class=\"row_heading level0 row2\" >attribute_2</th>\n",
       "      <td id=\"T_ea72e_row2_col0\" class=\"data row2 col0\" >-0.741200</td>\n",
       "      <td id=\"T_ea72e_row2_col1\" class=\"data row2 col1\" >-0.008208</td>\n",
       "      <td id=\"T_ea72e_row2_col2\" class=\"data row2 col2\" >1.000000</td>\n",
       "      <td id=\"T_ea72e_row2_col3\" class=\"data row2 col3\" >-0.538697</td>\n",
       "      <td id=\"T_ea72e_row2_col4\" class=\"data row2 col4\" >0.175387</td>\n",
       "      <td id=\"T_ea72e_row2_col5\" class=\"data row2 col5\" >-0.377971</td>\n",
       "      <td id=\"T_ea72e_row2_col6\" class=\"data row2 col6\" >0.030522</td>\n",
       "      <td id=\"T_ea72e_row2_col7\" class=\"data row2 col7\" >0.005849</td>\n",
       "      <td id=\"T_ea72e_row2_col8\" class=\"data row2 col8\" >-0.011797</td>\n",
       "      <td id=\"T_ea72e_row2_col9\" class=\"data row2 col9\" >0.006811</td>\n",
       "      <td id=\"T_ea72e_row2_col10\" class=\"data row2 col10\" >-0.002181</td>\n",
       "      <td id=\"T_ea72e_row2_col11\" class=\"data row2 col11\" >0.010338</td>\n",
       "      <td id=\"T_ea72e_row2_col12\" class=\"data row2 col12\" >-0.001717</td>\n",
       "      <td id=\"T_ea72e_row2_col13\" class=\"data row2 col13\" >-0.000098</td>\n",
       "      <td id=\"T_ea72e_row2_col14\" class=\"data row2 col14\" >-0.004953</td>\n",
       "      <td id=\"T_ea72e_row2_col15\" class=\"data row2 col15\" >0.094038</td>\n",
       "      <td id=\"T_ea72e_row2_col16\" class=\"data row2 col16\" >0.226756</td>\n",
       "      <td id=\"T_ea72e_row2_col17\" class=\"data row2 col17\" >0.049639</td>\n",
       "      <td id=\"T_ea72e_row2_col18\" class=\"data row2 col18\" >0.020921</td>\n",
       "      <td id=\"T_ea72e_row2_col19\" class=\"data row2 col19\" >-0.161242</td>\n",
       "      <td id=\"T_ea72e_row2_col20\" class=\"data row2 col20\" >0.035795</td>\n",
       "      <td id=\"T_ea72e_row2_col21\" class=\"data row2 col21\" >0.004729</td>\n",
       "      <td id=\"T_ea72e_row2_col22\" class=\"data row2 col22\" >0.006337</td>\n",
       "    </tr>\n",
       "    <tr>\n",
       "      <th id=\"T_ea72e_level0_row3\" class=\"row_heading level0 row3\" >attribute_3</th>\n",
       "      <td id=\"T_ea72e_row3_col0\" class=\"data row3 col0\" >0.558881</td>\n",
       "      <td id=\"T_ea72e_row3_col1\" class=\"data row3 col1\" >-0.000756</td>\n",
       "      <td id=\"T_ea72e_row3_col2\" class=\"data row3 col2\" >-0.538697</td>\n",
       "      <td id=\"T_ea72e_row3_col3\" class=\"data row3 col3\" >1.000000</td>\n",
       "      <td id=\"T_ea72e_row3_col4\" class=\"data row3 col4\" >-0.370232</td>\n",
       "      <td id=\"T_ea72e_row3_col5\" class=\"data row3 col5\" >0.329233</td>\n",
       "      <td id=\"T_ea72e_row3_col6\" class=\"data row3 col6\" >0.013258</td>\n",
       "      <td id=\"T_ea72e_row3_col7\" class=\"data row3 col7\" >-0.002265</td>\n",
       "      <td id=\"T_ea72e_row3_col8\" class=\"data row3 col8\" >0.015470</td>\n",
       "      <td id=\"T_ea72e_row3_col9\" class=\"data row3 col9\" >-0.004034</td>\n",
       "      <td id=\"T_ea72e_row3_col10\" class=\"data row3 col10\" >0.000119</td>\n",
       "      <td id=\"T_ea72e_row3_col11\" class=\"data row3 col11\" >-0.008046</td>\n",
       "      <td id=\"T_ea72e_row3_col12\" class=\"data row3 col12\" >-0.006233</td>\n",
       "      <td id=\"T_ea72e_row3_col13\" class=\"data row3 col13\" >-0.002295</td>\n",
       "      <td id=\"T_ea72e_row3_col14\" class=\"data row3 col14\" >-0.100845</td>\n",
       "      <td id=\"T_ea72e_row3_col15\" class=\"data row3 col15\" >-0.025434</td>\n",
       "      <td id=\"T_ea72e_row3_col16\" class=\"data row3 col16\" >-0.132060</td>\n",
       "      <td id=\"T_ea72e_row3_col17\" class=\"data row3 col17\" >0.028472</td>\n",
       "      <td id=\"T_ea72e_row3_col18\" class=\"data row3 col18\" >-0.049711</td>\n",
       "      <td id=\"T_ea72e_row3_col19\" class=\"data row3 col19\" >0.187519</td>\n",
       "      <td id=\"T_ea72e_row3_col20\" class=\"data row3 col20\" >-0.061520</td>\n",
       "      <td id=\"T_ea72e_row3_col21\" class=\"data row3 col21\" >-0.001418</td>\n",
       "      <td id=\"T_ea72e_row3_col22\" class=\"data row3 col22\" >-0.019222</td>\n",
       "    </tr>\n",
       "    <tr>\n",
       "      <th id=\"T_ea72e_level0_row4\" class=\"row_heading level0 row4\" >measurement_0</th>\n",
       "      <td id=\"T_ea72e_row4_col0\" class=\"data row4 col0\" >-0.253626</td>\n",
       "      <td id=\"T_ea72e_row4_col1\" class=\"data row4 col1\" >-0.005578</td>\n",
       "      <td id=\"T_ea72e_row4_col2\" class=\"data row4 col2\" >0.175387</td>\n",
       "      <td id=\"T_ea72e_row4_col3\" class=\"data row4 col3\" >-0.370232</td>\n",
       "      <td id=\"T_ea72e_row4_col4\" class=\"data row4 col4\" >1.000000</td>\n",
       "      <td id=\"T_ea72e_row4_col5\" class=\"data row4 col5\" >-0.255255</td>\n",
       "      <td id=\"T_ea72e_row4_col6\" class=\"data row4 col6\" >-0.083813</td>\n",
       "      <td id=\"T_ea72e_row4_col7\" class=\"data row4 col7\" >-0.004890</td>\n",
       "      <td id=\"T_ea72e_row4_col8\" class=\"data row4 col8\" >-0.006459</td>\n",
       "      <td id=\"T_ea72e_row4_col9\" class=\"data row4 col9\" >0.003304</td>\n",
       "      <td id=\"T_ea72e_row4_col10\" class=\"data row4 col10\" >0.003731</td>\n",
       "      <td id=\"T_ea72e_row4_col11\" class=\"data row4 col11\" >0.000669</td>\n",
       "      <td id=\"T_ea72e_row4_col12\" class=\"data row4 col12\" >-0.005037</td>\n",
       "      <td id=\"T_ea72e_row4_col13\" class=\"data row4 col13\" >0.009112</td>\n",
       "      <td id=\"T_ea72e_row4_col14\" class=\"data row4 col14\" >0.032779</td>\n",
       "      <td id=\"T_ea72e_row4_col15\" class=\"data row4 col15\" >0.001878</td>\n",
       "      <td id=\"T_ea72e_row4_col16\" class=\"data row4 col16\" >0.033496</td>\n",
       "      <td id=\"T_ea72e_row4_col17\" class=\"data row4 col17\" >-0.031527</td>\n",
       "      <td id=\"T_ea72e_row4_col18\" class=\"data row4 col18\" >0.021907</td>\n",
       "      <td id=\"T_ea72e_row4_col19\" class=\"data row4 col19\" >-0.055431</td>\n",
       "      <td id=\"T_ea72e_row4_col20\" class=\"data row4 col20\" >0.003025</td>\n",
       "      <td id=\"T_ea72e_row4_col21\" class=\"data row4 col21\" >0.003351</td>\n",
       "      <td id=\"T_ea72e_row4_col22\" class=\"data row4 col22\" >0.009646</td>\n",
       "    </tr>\n",
       "    <tr>\n",
       "      <th id=\"T_ea72e_level0_row5\" class=\"row_heading level0 row5\" >measurement_1</th>\n",
       "      <td id=\"T_ea72e_row5_col0\" class=\"data row5 col0\" >0.400206</td>\n",
       "      <td id=\"T_ea72e_row5_col1\" class=\"data row5 col1\" >0.002532</td>\n",
       "      <td id=\"T_ea72e_row5_col2\" class=\"data row5 col2\" >-0.377971</td>\n",
       "      <td id=\"T_ea72e_row5_col3\" class=\"data row5 col3\" >0.329233</td>\n",
       "      <td id=\"T_ea72e_row5_col4\" class=\"data row5 col4\" >-0.255255</td>\n",
       "      <td id=\"T_ea72e_row5_col5\" class=\"data row5 col5\" >1.000000</td>\n",
       "      <td id=\"T_ea72e_row5_col6\" class=\"data row5 col6\" >0.005032</td>\n",
       "      <td id=\"T_ea72e_row5_col7\" class=\"data row5 col7\" >-0.008363</td>\n",
       "      <td id=\"T_ea72e_row5_col8\" class=\"data row5 col8\" >0.001535</td>\n",
       "      <td id=\"T_ea72e_row5_col9\" class=\"data row5 col9\" >-0.005587</td>\n",
       "      <td id=\"T_ea72e_row5_col10\" class=\"data row5 col10\" >-0.001562</td>\n",
       "      <td id=\"T_ea72e_row5_col11\" class=\"data row5 col11\" >-0.016977</td>\n",
       "      <td id=\"T_ea72e_row5_col12\" class=\"data row5 col12\" >0.000286</td>\n",
       "      <td id=\"T_ea72e_row5_col13\" class=\"data row5 col13\" >0.004529</td>\n",
       "      <td id=\"T_ea72e_row5_col14\" class=\"data row5 col14\" >0.011986</td>\n",
       "      <td id=\"T_ea72e_row5_col15\" class=\"data row5 col15\" >-0.035312</td>\n",
       "      <td id=\"T_ea72e_row5_col16\" class=\"data row5 col16\" >-0.084605</td>\n",
       "      <td id=\"T_ea72e_row5_col17\" class=\"data row5 col17\" >0.007523</td>\n",
       "      <td id=\"T_ea72e_row5_col18\" class=\"data row5 col18\" >-0.011471</td>\n",
       "      <td id=\"T_ea72e_row5_col19\" class=\"data row5 col19\" >0.060870</td>\n",
       "      <td id=\"T_ea72e_row5_col20\" class=\"data row5 col20\" >-0.004509</td>\n",
       "      <td id=\"T_ea72e_row5_col21\" class=\"data row5 col21\" >-0.004651</td>\n",
       "      <td id=\"T_ea72e_row5_col22\" class=\"data row5 col22\" >-0.010810</td>\n",
       "    </tr>\n",
       "    <tr>\n",
       "      <th id=\"T_ea72e_level0_row6\" class=\"row_heading level0 row6\" >measurement_2</th>\n",
       "      <td id=\"T_ea72e_row6_col0\" class=\"data row6 col0\" >0.000128</td>\n",
       "      <td id=\"T_ea72e_row6_col1\" class=\"data row6 col1\" >0.000303</td>\n",
       "      <td id=\"T_ea72e_row6_col2\" class=\"data row6 col2\" >0.030522</td>\n",
       "      <td id=\"T_ea72e_row6_col3\" class=\"data row6 col3\" >0.013258</td>\n",
       "      <td id=\"T_ea72e_row6_col4\" class=\"data row6 col4\" >-0.083813</td>\n",
       "      <td id=\"T_ea72e_row6_col5\" class=\"data row6 col5\" >0.005032</td>\n",
       "      <td id=\"T_ea72e_row6_col6\" class=\"data row6 col6\" >1.000000</td>\n",
       "      <td id=\"T_ea72e_row6_col7\" class=\"data row6 col7\" >-0.002751</td>\n",
       "      <td id=\"T_ea72e_row6_col8\" class=\"data row6 col8\" >-0.009797</td>\n",
       "      <td id=\"T_ea72e_row6_col9\" class=\"data row6 col9\" >0.000241</td>\n",
       "      <td id=\"T_ea72e_row6_col10\" class=\"data row6 col10\" >-0.009157</td>\n",
       "      <td id=\"T_ea72e_row6_col11\" class=\"data row6 col11\" >0.002012</td>\n",
       "      <td id=\"T_ea72e_row6_col12\" class=\"data row6 col12\" >0.000591</td>\n",
       "      <td id=\"T_ea72e_row6_col13\" class=\"data row6 col13\" >0.001884</td>\n",
       "      <td id=\"T_ea72e_row6_col14\" class=\"data row6 col14\" >0.018695</td>\n",
       "      <td id=\"T_ea72e_row6_col15\" class=\"data row6 col15\" >-0.003877</td>\n",
       "      <td id=\"T_ea72e_row6_col16\" class=\"data row6 col16\" >-0.001808</td>\n",
       "      <td id=\"T_ea72e_row6_col17\" class=\"data row6 col17\" >0.029145</td>\n",
       "      <td id=\"T_ea72e_row6_col18\" class=\"data row6 col18\" >0.014623</td>\n",
       "      <td id=\"T_ea72e_row6_col19\" class=\"data row6 col19\" >0.000138</td>\n",
       "      <td id=\"T_ea72e_row6_col20\" class=\"data row6 col20\" >0.033088</td>\n",
       "      <td id=\"T_ea72e_row6_col21\" class=\"data row6 col21\" >-0.009596</td>\n",
       "      <td id=\"T_ea72e_row6_col22\" class=\"data row6 col22\" >0.015808</td>\n",
       "    </tr>\n",
       "    <tr>\n",
       "      <th id=\"T_ea72e_level0_row7\" class=\"row_heading level0 row7\" >measurement_3</th>\n",
       "      <td id=\"T_ea72e_row7_col0\" class=\"data row7 col0\" >-0.005923</td>\n",
       "      <td id=\"T_ea72e_row7_col1\" class=\"data row7 col1\" >-0.005203</td>\n",
       "      <td id=\"T_ea72e_row7_col2\" class=\"data row7 col2\" >0.005849</td>\n",
       "      <td id=\"T_ea72e_row7_col3\" class=\"data row7 col3\" >-0.002265</td>\n",
       "      <td id=\"T_ea72e_row7_col4\" class=\"data row7 col4\" >-0.004890</td>\n",
       "      <td id=\"T_ea72e_row7_col5\" class=\"data row7 col5\" >-0.008363</td>\n",
       "      <td id=\"T_ea72e_row7_col6\" class=\"data row7 col6\" >-0.002751</td>\n",
       "      <td id=\"T_ea72e_row7_col7\" class=\"data row7 col7\" >1.000000</td>\n",
       "      <td id=\"T_ea72e_row7_col8\" class=\"data row7 col8\" >0.009573</td>\n",
       "      <td id=\"T_ea72e_row7_col9\" class=\"data row7 col9\" >0.009864</td>\n",
       "      <td id=\"T_ea72e_row7_col10\" class=\"data row7 col10\" >0.008322</td>\n",
       "      <td id=\"T_ea72e_row7_col11\" class=\"data row7 col11\" >0.006111</td>\n",
       "      <td id=\"T_ea72e_row7_col12\" class=\"data row7 col12\" >0.001286</td>\n",
       "      <td id=\"T_ea72e_row7_col13\" class=\"data row7 col13\" >0.008195</td>\n",
       "      <td id=\"T_ea72e_row7_col14\" class=\"data row7 col14\" >-0.004854</td>\n",
       "      <td id=\"T_ea72e_row7_col15\" class=\"data row7 col15\" >-0.004427</td>\n",
       "      <td id=\"T_ea72e_row7_col16\" class=\"data row7 col16\" >0.002445</td>\n",
       "      <td id=\"T_ea72e_row7_col17\" class=\"data row7 col17\" >0.005893</td>\n",
       "      <td id=\"T_ea72e_row7_col18\" class=\"data row7 col18\" >0.002150</td>\n",
       "      <td id=\"T_ea72e_row7_col19\" class=\"data row7 col19\" >-0.010986</td>\n",
       "      <td id=\"T_ea72e_row7_col20\" class=\"data row7 col20\" >-0.002164</td>\n",
       "      <td id=\"T_ea72e_row7_col21\" class=\"data row7 col21\" >0.080902</td>\n",
       "      <td id=\"T_ea72e_row7_col22\" class=\"data row7 col22\" >0.003577</td>\n",
       "    </tr>\n",
       "    <tr>\n",
       "      <th id=\"T_ea72e_level0_row8\" class=\"row_heading level0 row8\" >measurement_4</th>\n",
       "      <td id=\"T_ea72e_row8_col0\" class=\"data row8 col0\" >0.011313</td>\n",
       "      <td id=\"T_ea72e_row8_col1\" class=\"data row8 col1\" >-0.011792</td>\n",
       "      <td id=\"T_ea72e_row8_col2\" class=\"data row8 col2\" >-0.011797</td>\n",
       "      <td id=\"T_ea72e_row8_col3\" class=\"data row8 col3\" >0.015470</td>\n",
       "      <td id=\"T_ea72e_row8_col4\" class=\"data row8 col4\" >-0.006459</td>\n",
       "      <td id=\"T_ea72e_row8_col5\" class=\"data row8 col5\" >0.001535</td>\n",
       "      <td id=\"T_ea72e_row8_col6\" class=\"data row8 col6\" >-0.009797</td>\n",
       "      <td id=\"T_ea72e_row8_col7\" class=\"data row8 col7\" >0.009573</td>\n",
       "      <td id=\"T_ea72e_row8_col8\" class=\"data row8 col8\" >1.000000</td>\n",
       "      <td id=\"T_ea72e_row8_col9\" class=\"data row8 col9\" >0.005113</td>\n",
       "      <td id=\"T_ea72e_row8_col10\" class=\"data row8 col10\" >0.001682</td>\n",
       "      <td id=\"T_ea72e_row8_col11\" class=\"data row8 col11\" >-0.004630</td>\n",
       "      <td id=\"T_ea72e_row8_col12\" class=\"data row8 col12\" >0.006374</td>\n",
       "      <td id=\"T_ea72e_row8_col13\" class=\"data row8 col13\" >0.009080</td>\n",
       "      <td id=\"T_ea72e_row8_col14\" class=\"data row8 col14\" >-0.012998</td>\n",
       "      <td id=\"T_ea72e_row8_col15\" class=\"data row8 col15\" >-0.002784</td>\n",
       "      <td id=\"T_ea72e_row8_col16\" class=\"data row8 col16\" >-0.002586</td>\n",
       "      <td id=\"T_ea72e_row8_col17\" class=\"data row8 col17\" >-0.002454</td>\n",
       "      <td id=\"T_ea72e_row8_col18\" class=\"data row8 col18\" >-0.001713</td>\n",
       "      <td id=\"T_ea72e_row8_col19\" class=\"data row8 col19\" >-0.004567</td>\n",
       "      <td id=\"T_ea72e_row8_col20\" class=\"data row8 col20\" >0.002929</td>\n",
       "      <td id=\"T_ea72e_row8_col21\" class=\"data row8 col21\" >0.193045</td>\n",
       "      <td id=\"T_ea72e_row8_col22\" class=\"data row8 col22\" >-0.010488</td>\n",
       "    </tr>\n",
       "    <tr>\n",
       "      <th id=\"T_ea72e_level0_row9\" class=\"row_heading level0 row9\" >measurement_5</th>\n",
       "      <td id=\"T_ea72e_row9_col0\" class=\"data row9 col0\" >-0.007001</td>\n",
       "      <td id=\"T_ea72e_row9_col1\" class=\"data row9 col1\" >-0.005599</td>\n",
       "      <td id=\"T_ea72e_row9_col2\" class=\"data row9 col2\" >0.006811</td>\n",
       "      <td id=\"T_ea72e_row9_col3\" class=\"data row9 col3\" >-0.004034</td>\n",
       "      <td id=\"T_ea72e_row9_col4\" class=\"data row9 col4\" >0.003304</td>\n",
       "      <td id=\"T_ea72e_row9_col5\" class=\"data row9 col5\" >-0.005587</td>\n",
       "      <td id=\"T_ea72e_row9_col6\" class=\"data row9 col6\" >0.000241</td>\n",
       "      <td id=\"T_ea72e_row9_col7\" class=\"data row9 col7\" >0.009864</td>\n",
       "      <td id=\"T_ea72e_row9_col8\" class=\"data row9 col8\" >0.005113</td>\n",
       "      <td id=\"T_ea72e_row9_col9\" class=\"data row9 col9\" >1.000000</td>\n",
       "      <td id=\"T_ea72e_row9_col10\" class=\"data row9 col10\" >0.006405</td>\n",
       "      <td id=\"T_ea72e_row9_col11\" class=\"data row9 col11\" >-0.006422</td>\n",
       "      <td id=\"T_ea72e_row9_col12\" class=\"data row9 col12\" >-0.004960</td>\n",
       "      <td id=\"T_ea72e_row9_col13\" class=\"data row9 col13\" >-0.003589</td>\n",
       "      <td id=\"T_ea72e_row9_col14\" class=\"data row9 col14\" >0.002170</td>\n",
       "      <td id=\"T_ea72e_row9_col15\" class=\"data row9 col15\" >0.005306</td>\n",
       "      <td id=\"T_ea72e_row9_col16\" class=\"data row9 col16\" >0.000858</td>\n",
       "      <td id=\"T_ea72e_row9_col17\" class=\"data row9 col17\" >-0.009325</td>\n",
       "      <td id=\"T_ea72e_row9_col18\" class=\"data row9 col18\" >0.008720</td>\n",
       "      <td id=\"T_ea72e_row9_col19\" class=\"data row9 col19\" >-0.009101</td>\n",
       "      <td id=\"T_ea72e_row9_col20\" class=\"data row9 col20\" >-0.002996</td>\n",
       "      <td id=\"T_ea72e_row9_col21\" class=\"data row9 col21\" >0.450024</td>\n",
       "      <td id=\"T_ea72e_row9_col22\" class=\"data row9 col22\" >0.018079</td>\n",
       "    </tr>\n",
       "    <tr>\n",
       "      <th id=\"T_ea72e_level0_row10\" class=\"row_heading level0 row10\" >measurement_6</th>\n",
       "      <td id=\"T_ea72e_row10_col0\" class=\"data row10 col0\" >0.008734</td>\n",
       "      <td id=\"T_ea72e_row10_col1\" class=\"data row10 col1\" >0.007310</td>\n",
       "      <td id=\"T_ea72e_row10_col2\" class=\"data row10 col2\" >-0.002181</td>\n",
       "      <td id=\"T_ea72e_row10_col3\" class=\"data row10 col3\" >0.000119</td>\n",
       "      <td id=\"T_ea72e_row10_col4\" class=\"data row10 col4\" >0.003731</td>\n",
       "      <td id=\"T_ea72e_row10_col5\" class=\"data row10 col5\" >-0.001562</td>\n",
       "      <td id=\"T_ea72e_row10_col6\" class=\"data row10 col6\" >-0.009157</td>\n",
       "      <td id=\"T_ea72e_row10_col7\" class=\"data row10 col7\" >0.008322</td>\n",
       "      <td id=\"T_ea72e_row10_col8\" class=\"data row10 col8\" >0.001682</td>\n",
       "      <td id=\"T_ea72e_row10_col9\" class=\"data row10 col9\" >0.006405</td>\n",
       "      <td id=\"T_ea72e_row10_col10\" class=\"data row10 col10\" >1.000000</td>\n",
       "      <td id=\"T_ea72e_row10_col11\" class=\"data row10 col11\" >0.004974</td>\n",
       "      <td id=\"T_ea72e_row10_col12\" class=\"data row10 col12\" >-0.000080</td>\n",
       "      <td id=\"T_ea72e_row10_col13\" class=\"data row10 col13\" >0.006014</td>\n",
       "      <td id=\"T_ea72e_row10_col14\" class=\"data row10 col14\" >0.000138</td>\n",
       "      <td id=\"T_ea72e_row10_col15\" class=\"data row10 col15\" >-0.002167</td>\n",
       "      <td id=\"T_ea72e_row10_col16\" class=\"data row10 col16\" >-0.010889</td>\n",
       "      <td id=\"T_ea72e_row10_col17\" class=\"data row10 col17\" >-0.004767</td>\n",
       "      <td id=\"T_ea72e_row10_col18\" class=\"data row10 col18\" >-0.001128</td>\n",
       "      <td id=\"T_ea72e_row10_col19\" class=\"data row10 col19\" >0.000857</td>\n",
       "      <td id=\"T_ea72e_row10_col20\" class=\"data row10 col20\" >-0.004490</td>\n",
       "      <td id=\"T_ea72e_row10_col21\" class=\"data row10 col21\" >0.328136</td>\n",
       "      <td id=\"T_ea72e_row10_col22\" class=\"data row10 col22\" >0.014791</td>\n",
       "    </tr>\n",
       "    <tr>\n",
       "      <th id=\"T_ea72e_level0_row11\" class=\"row_heading level0 row11\" >measurement_7</th>\n",
       "      <td id=\"T_ea72e_row11_col0\" class=\"data row11 col0\" >-0.011881</td>\n",
       "      <td id=\"T_ea72e_row11_col1\" class=\"data row11 col1\" >-0.001773</td>\n",
       "      <td id=\"T_ea72e_row11_col2\" class=\"data row11 col2\" >0.010338</td>\n",
       "      <td id=\"T_ea72e_row11_col3\" class=\"data row11 col3\" >-0.008046</td>\n",
       "      <td id=\"T_ea72e_row11_col4\" class=\"data row11 col4\" >0.000669</td>\n",
       "      <td id=\"T_ea72e_row11_col5\" class=\"data row11 col5\" >-0.016977</td>\n",
       "      <td id=\"T_ea72e_row11_col6\" class=\"data row11 col6\" >0.002012</td>\n",
       "      <td id=\"T_ea72e_row11_col7\" class=\"data row11 col7\" >0.006111</td>\n",
       "      <td id=\"T_ea72e_row11_col8\" class=\"data row11 col8\" >-0.004630</td>\n",
       "      <td id=\"T_ea72e_row11_col9\" class=\"data row11 col9\" >-0.006422</td>\n",
       "      <td id=\"T_ea72e_row11_col10\" class=\"data row11 col10\" >0.004974</td>\n",
       "      <td id=\"T_ea72e_row11_col11\" class=\"data row11 col11\" >1.000000</td>\n",
       "      <td id=\"T_ea72e_row11_col12\" class=\"data row11 col12\" >0.003677</td>\n",
       "      <td id=\"T_ea72e_row11_col13\" class=\"data row11 col13\" >0.002793</td>\n",
       "      <td id=\"T_ea72e_row11_col14\" class=\"data row11 col14\" >-0.000729</td>\n",
       "      <td id=\"T_ea72e_row11_col15\" class=\"data row11 col15\" >-0.007548</td>\n",
       "      <td id=\"T_ea72e_row11_col16\" class=\"data row11 col16\" >0.004150</td>\n",
       "      <td id=\"T_ea72e_row11_col17\" class=\"data row11 col17\" >-0.002730</td>\n",
       "      <td id=\"T_ea72e_row11_col18\" class=\"data row11 col18\" >0.003493</td>\n",
       "      <td id=\"T_ea72e_row11_col19\" class=\"data row11 col19\" >-0.003583</td>\n",
       "      <td id=\"T_ea72e_row11_col20\" class=\"data row11 col20\" >-0.009377</td>\n",
       "      <td id=\"T_ea72e_row11_col21\" class=\"data row11 col21\" >0.330328</td>\n",
       "      <td id=\"T_ea72e_row11_col22\" class=\"data row11 col22\" >0.016787</td>\n",
       "    </tr>\n",
       "    <tr>\n",
       "      <th id=\"T_ea72e_level0_row12\" class=\"row_heading level0 row12\" >measurement_8</th>\n",
       "      <td id=\"T_ea72e_row12_col0\" class=\"data row12 col0\" >0.000437</td>\n",
       "      <td id=\"T_ea72e_row12_col1\" class=\"data row12 col1\" >-0.002998</td>\n",
       "      <td id=\"T_ea72e_row12_col2\" class=\"data row12 col2\" >-0.001717</td>\n",
       "      <td id=\"T_ea72e_row12_col3\" class=\"data row12 col3\" >-0.006233</td>\n",
       "      <td id=\"T_ea72e_row12_col4\" class=\"data row12 col4\" >-0.005037</td>\n",
       "      <td id=\"T_ea72e_row12_col5\" class=\"data row12 col5\" >0.000286</td>\n",
       "      <td id=\"T_ea72e_row12_col6\" class=\"data row12 col6\" >0.000591</td>\n",
       "      <td id=\"T_ea72e_row12_col7\" class=\"data row12 col7\" >0.001286</td>\n",
       "      <td id=\"T_ea72e_row12_col8\" class=\"data row12 col8\" >0.006374</td>\n",
       "      <td id=\"T_ea72e_row12_col9\" class=\"data row12 col9\" >-0.004960</td>\n",
       "      <td id=\"T_ea72e_row12_col10\" class=\"data row12 col10\" >-0.000080</td>\n",
       "      <td id=\"T_ea72e_row12_col11\" class=\"data row12 col11\" >0.003677</td>\n",
       "      <td id=\"T_ea72e_row12_col12\" class=\"data row12 col12\" >1.000000</td>\n",
       "      <td id=\"T_ea72e_row12_col13\" class=\"data row12 col13\" >-0.000258</td>\n",
       "      <td id=\"T_ea72e_row12_col14\" class=\"data row12 col14\" >-0.003070</td>\n",
       "      <td id=\"T_ea72e_row12_col15\" class=\"data row12 col15\" >-0.014865</td>\n",
       "      <td id=\"T_ea72e_row12_col16\" class=\"data row12 col16\" >-0.001129</td>\n",
       "      <td id=\"T_ea72e_row12_col17\" class=\"data row12 col17\" >-0.007111</td>\n",
       "      <td id=\"T_ea72e_row12_col18\" class=\"data row12 col18\" >-0.003867</td>\n",
       "      <td id=\"T_ea72e_row12_col19\" class=\"data row12 col19\" >0.017337</td>\n",
       "      <td id=\"T_ea72e_row12_col20\" class=\"data row12 col20\" >0.002242</td>\n",
       "      <td id=\"T_ea72e_row12_col21\" class=\"data row12 col21\" >0.492839</td>\n",
       "      <td id=\"T_ea72e_row12_col22\" class=\"data row12 col22\" >0.017119</td>\n",
       "    </tr>\n",
       "    <tr>\n",
       "      <th id=\"T_ea72e_level0_row13\" class=\"row_heading level0 row13\" >measurement_9</th>\n",
       "      <td id=\"T_ea72e_row13_col0\" class=\"data row13 col0\" >0.001550</td>\n",
       "      <td id=\"T_ea72e_row13_col1\" class=\"data row13 col1\" >-0.007751</td>\n",
       "      <td id=\"T_ea72e_row13_col2\" class=\"data row13 col2\" >-0.000098</td>\n",
       "      <td id=\"T_ea72e_row13_col3\" class=\"data row13 col3\" >-0.002295</td>\n",
       "      <td id=\"T_ea72e_row13_col4\" class=\"data row13 col4\" >0.009112</td>\n",
       "      <td id=\"T_ea72e_row13_col5\" class=\"data row13 col5\" >0.004529</td>\n",
       "      <td id=\"T_ea72e_row13_col6\" class=\"data row13 col6\" >0.001884</td>\n",
       "      <td id=\"T_ea72e_row13_col7\" class=\"data row13 col7\" >0.008195</td>\n",
       "      <td id=\"T_ea72e_row13_col8\" class=\"data row13 col8\" >0.009080</td>\n",
       "      <td id=\"T_ea72e_row13_col9\" class=\"data row13 col9\" >-0.003589</td>\n",
       "      <td id=\"T_ea72e_row13_col10\" class=\"data row13 col10\" >0.006014</td>\n",
       "      <td id=\"T_ea72e_row13_col11\" class=\"data row13 col11\" >0.002793</td>\n",
       "      <td id=\"T_ea72e_row13_col12\" class=\"data row13 col12\" >-0.000258</td>\n",
       "      <td id=\"T_ea72e_row13_col13\" class=\"data row13 col13\" >1.000000</td>\n",
       "      <td id=\"T_ea72e_row13_col14\" class=\"data row13 col14\" >-0.006713</td>\n",
       "      <td id=\"T_ea72e_row13_col15\" class=\"data row13 col15\" >-0.007012</td>\n",
       "      <td id=\"T_ea72e_row13_col16\" class=\"data row13 col16\" >-0.007173</td>\n",
       "      <td id=\"T_ea72e_row13_col17\" class=\"data row13 col17\" >-0.006098</td>\n",
       "      <td id=\"T_ea72e_row13_col18\" class=\"data row13 col18\" >-0.011114</td>\n",
       "      <td id=\"T_ea72e_row13_col19\" class=\"data row13 col19\" >-0.003587</td>\n",
       "      <td id=\"T_ea72e_row13_col20\" class=\"data row13 col20\" >-0.002176</td>\n",
       "      <td id=\"T_ea72e_row13_col21\" class=\"data row13 col21\" >0.145465</td>\n",
       "      <td id=\"T_ea72e_row13_col22\" class=\"data row13 col22\" >-0.003587</td>\n",
       "    </tr>\n",
       "    <tr>\n",
       "      <th id=\"T_ea72e_level0_row14\" class=\"row_heading level0 row14\" >measurement_10</th>\n",
       "      <td id=\"T_ea72e_row14_col0\" class=\"data row14 col0\" >-0.029611</td>\n",
       "      <td id=\"T_ea72e_row14_col1\" class=\"data row14 col1\" >-0.007525</td>\n",
       "      <td id=\"T_ea72e_row14_col2\" class=\"data row14 col2\" >-0.004953</td>\n",
       "      <td id=\"T_ea72e_row14_col3\" class=\"data row14 col3\" >-0.100845</td>\n",
       "      <td id=\"T_ea72e_row14_col4\" class=\"data row14 col4\" >0.032779</td>\n",
       "      <td id=\"T_ea72e_row14_col5\" class=\"data row14 col5\" >0.011986</td>\n",
       "      <td id=\"T_ea72e_row14_col6\" class=\"data row14 col6\" >0.018695</td>\n",
       "      <td id=\"T_ea72e_row14_col7\" class=\"data row14 col7\" >-0.004854</td>\n",
       "      <td id=\"T_ea72e_row14_col8\" class=\"data row14 col8\" >-0.012998</td>\n",
       "      <td id=\"T_ea72e_row14_col9\" class=\"data row14 col9\" >0.002170</td>\n",
       "      <td id=\"T_ea72e_row14_col10\" class=\"data row14 col10\" >0.000138</td>\n",
       "      <td id=\"T_ea72e_row14_col11\" class=\"data row14 col11\" >-0.000729</td>\n",
       "      <td id=\"T_ea72e_row14_col12\" class=\"data row14 col12\" >-0.003070</td>\n",
       "      <td id=\"T_ea72e_row14_col13\" class=\"data row14 col13\" >-0.006713</td>\n",
       "      <td id=\"T_ea72e_row14_col14\" class=\"data row14 col14\" >1.000000</td>\n",
       "      <td id=\"T_ea72e_row14_col15\" class=\"data row14 col15\" >-0.035420</td>\n",
       "      <td id=\"T_ea72e_row14_col16\" class=\"data row14 col16\" >0.031195</td>\n",
       "      <td id=\"T_ea72e_row14_col17\" class=\"data row14 col17\" >0.031349</td>\n",
       "      <td id=\"T_ea72e_row14_col18\" class=\"data row14 col18\" >0.038033</td>\n",
       "      <td id=\"T_ea72e_row14_col19\" class=\"data row14 col19\" >-0.053829</td>\n",
       "      <td id=\"T_ea72e_row14_col20\" class=\"data row14 col20\" >0.004403</td>\n",
       "      <td id=\"T_ea72e_row14_col21\" class=\"data row14 col21\" >0.000477</td>\n",
       "      <td id=\"T_ea72e_row14_col22\" class=\"data row14 col22\" >-0.001515</td>\n",
       "    </tr>\n",
       "    <tr>\n",
       "      <th id=\"T_ea72e_level0_row15\" class=\"row_heading level0 row15\" >measurement_11</th>\n",
       "      <td id=\"T_ea72e_row15_col0\" class=\"data row15 col0\" >0.009524</td>\n",
       "      <td id=\"T_ea72e_row15_col1\" class=\"data row15 col1\" >0.003594</td>\n",
       "      <td id=\"T_ea72e_row15_col2\" class=\"data row15 col2\" >0.094038</td>\n",
       "      <td id=\"T_ea72e_row15_col3\" class=\"data row15 col3\" >-0.025434</td>\n",
       "      <td id=\"T_ea72e_row15_col4\" class=\"data row15 col4\" >0.001878</td>\n",
       "      <td id=\"T_ea72e_row15_col5\" class=\"data row15 col5\" >-0.035312</td>\n",
       "      <td id=\"T_ea72e_row15_col6\" class=\"data row15 col6\" >-0.003877</td>\n",
       "      <td id=\"T_ea72e_row15_col7\" class=\"data row15 col7\" >-0.004427</td>\n",
       "      <td id=\"T_ea72e_row15_col8\" class=\"data row15 col8\" >-0.002784</td>\n",
       "      <td id=\"T_ea72e_row15_col9\" class=\"data row15 col9\" >0.005306</td>\n",
       "      <td id=\"T_ea72e_row15_col10\" class=\"data row15 col10\" >-0.002167</td>\n",
       "      <td id=\"T_ea72e_row15_col11\" class=\"data row15 col11\" >-0.007548</td>\n",
       "      <td id=\"T_ea72e_row15_col12\" class=\"data row15 col12\" >-0.014865</td>\n",
       "      <td id=\"T_ea72e_row15_col13\" class=\"data row15 col13\" >-0.007012</td>\n",
       "      <td id=\"T_ea72e_row15_col14\" class=\"data row15 col14\" >-0.035420</td>\n",
       "      <td id=\"T_ea72e_row15_col15\" class=\"data row15 col15\" >1.000000</td>\n",
       "      <td id=\"T_ea72e_row15_col16\" class=\"data row15 col16\" >0.088620</td>\n",
       "      <td id=\"T_ea72e_row15_col17\" class=\"data row15 col17\" >-0.095634</td>\n",
       "      <td id=\"T_ea72e_row15_col18\" class=\"data row15 col18\" >-0.086349</td>\n",
       "      <td id=\"T_ea72e_row15_col19\" class=\"data row15 col19\" >-0.026127</td>\n",
       "      <td id=\"T_ea72e_row15_col20\" class=\"data row15 col20\" >0.091059</td>\n",
       "      <td id=\"T_ea72e_row15_col21\" class=\"data row15 col21\" >-0.011975</td>\n",
       "      <td id=\"T_ea72e_row15_col22\" class=\"data row15 col22\" >-0.004801</td>\n",
       "    </tr>\n",
       "    <tr>\n",
       "      <th id=\"T_ea72e_level0_row16\" class=\"row_heading level0 row16\" >measurement_12</th>\n",
       "      <td id=\"T_ea72e_row16_col0\" class=\"data row16 col0\" >-0.151220</td>\n",
       "      <td id=\"T_ea72e_row16_col1\" class=\"data row16 col1\" >-0.002407</td>\n",
       "      <td id=\"T_ea72e_row16_col2\" class=\"data row16 col2\" >0.226756</td>\n",
       "      <td id=\"T_ea72e_row16_col3\" class=\"data row16 col3\" >-0.132060</td>\n",
       "      <td id=\"T_ea72e_row16_col4\" class=\"data row16 col4\" >0.033496</td>\n",
       "      <td id=\"T_ea72e_row16_col5\" class=\"data row16 col5\" >-0.084605</td>\n",
       "      <td id=\"T_ea72e_row16_col6\" class=\"data row16 col6\" >-0.001808</td>\n",
       "      <td id=\"T_ea72e_row16_col7\" class=\"data row16 col7\" >0.002445</td>\n",
       "      <td id=\"T_ea72e_row16_col8\" class=\"data row16 col8\" >-0.002586</td>\n",
       "      <td id=\"T_ea72e_row16_col9\" class=\"data row16 col9\" >0.000858</td>\n",
       "      <td id=\"T_ea72e_row16_col10\" class=\"data row16 col10\" >-0.010889</td>\n",
       "      <td id=\"T_ea72e_row16_col11\" class=\"data row16 col11\" >0.004150</td>\n",
       "      <td id=\"T_ea72e_row16_col12\" class=\"data row16 col12\" >-0.001129</td>\n",
       "      <td id=\"T_ea72e_row16_col13\" class=\"data row16 col13\" >-0.007173</td>\n",
       "      <td id=\"T_ea72e_row16_col14\" class=\"data row16 col14\" >0.031195</td>\n",
       "      <td id=\"T_ea72e_row16_col15\" class=\"data row16 col15\" >0.088620</td>\n",
       "      <td id=\"T_ea72e_row16_col16\" class=\"data row16 col16\" >1.000000</td>\n",
       "      <td id=\"T_ea72e_row16_col17\" class=\"data row16 col17\" >0.002399</td>\n",
       "      <td id=\"T_ea72e_row16_col18\" class=\"data row16 col18\" >-0.024977</td>\n",
       "      <td id=\"T_ea72e_row16_col19\" class=\"data row16 col19\" >-0.152583</td>\n",
       "      <td id=\"T_ea72e_row16_col20\" class=\"data row16 col20\" >0.095430</td>\n",
       "      <td id=\"T_ea72e_row16_col21\" class=\"data row16 col21\" >-0.005552</td>\n",
       "      <td id=\"T_ea72e_row16_col22\" class=\"data row16 col22\" >0.004398</td>\n",
       "    </tr>\n",
       "    <tr>\n",
       "      <th id=\"T_ea72e_level0_row17\" class=\"row_heading level0 row17\" >measurement_13</th>\n",
       "      <td id=\"T_ea72e_row17_col0\" class=\"data row17 col0\" >-0.037559</td>\n",
       "      <td id=\"T_ea72e_row17_col1\" class=\"data row17 col1\" >0.006138</td>\n",
       "      <td id=\"T_ea72e_row17_col2\" class=\"data row17 col2\" >0.049639</td>\n",
       "      <td id=\"T_ea72e_row17_col3\" class=\"data row17 col3\" >0.028472</td>\n",
       "      <td id=\"T_ea72e_row17_col4\" class=\"data row17 col4\" >-0.031527</td>\n",
       "      <td id=\"T_ea72e_row17_col5\" class=\"data row17 col5\" >0.007523</td>\n",
       "      <td id=\"T_ea72e_row17_col6\" class=\"data row17 col6\" >0.029145</td>\n",
       "      <td id=\"T_ea72e_row17_col7\" class=\"data row17 col7\" >0.005893</td>\n",
       "      <td id=\"T_ea72e_row17_col8\" class=\"data row17 col8\" >-0.002454</td>\n",
       "      <td id=\"T_ea72e_row17_col9\" class=\"data row17 col9\" >-0.009325</td>\n",
       "      <td id=\"T_ea72e_row17_col10\" class=\"data row17 col10\" >-0.004767</td>\n",
       "      <td id=\"T_ea72e_row17_col11\" class=\"data row17 col11\" >-0.002730</td>\n",
       "      <td id=\"T_ea72e_row17_col12\" class=\"data row17 col12\" >-0.007111</td>\n",
       "      <td id=\"T_ea72e_row17_col13\" class=\"data row17 col13\" >-0.006098</td>\n",
       "      <td id=\"T_ea72e_row17_col14\" class=\"data row17 col14\" >0.031349</td>\n",
       "      <td id=\"T_ea72e_row17_col15\" class=\"data row17 col15\" >-0.095634</td>\n",
       "      <td id=\"T_ea72e_row17_col16\" class=\"data row17 col16\" >0.002399</td>\n",
       "      <td id=\"T_ea72e_row17_col17\" class=\"data row17 col17\" >1.000000</td>\n",
       "      <td id=\"T_ea72e_row17_col18\" class=\"data row17 col18\" >0.005001</td>\n",
       "      <td id=\"T_ea72e_row17_col19\" class=\"data row17 col19\" >0.028483</td>\n",
       "      <td id=\"T_ea72e_row17_col20\" class=\"data row17 col20\" >0.131495</td>\n",
       "      <td id=\"T_ea72e_row17_col21\" class=\"data row17 col21\" >-0.013250</td>\n",
       "      <td id=\"T_ea72e_row17_col22\" class=\"data row17 col22\" >-0.001831</td>\n",
       "    </tr>\n",
       "    <tr>\n",
       "      <th id=\"T_ea72e_level0_row18\" class=\"row_heading level0 row18\" >measurement_14</th>\n",
       "      <td id=\"T_ea72e_row18_col0\" class=\"data row18 col0\" >-0.053744</td>\n",
       "      <td id=\"T_ea72e_row18_col1\" class=\"data row18 col1\" >0.000120</td>\n",
       "      <td id=\"T_ea72e_row18_col2\" class=\"data row18 col2\" >0.020921</td>\n",
       "      <td id=\"T_ea72e_row18_col3\" class=\"data row18 col3\" >-0.049711</td>\n",
       "      <td id=\"T_ea72e_row18_col4\" class=\"data row18 col4\" >0.021907</td>\n",
       "      <td id=\"T_ea72e_row18_col5\" class=\"data row18 col5\" >-0.011471</td>\n",
       "      <td id=\"T_ea72e_row18_col6\" class=\"data row18 col6\" >0.014623</td>\n",
       "      <td id=\"T_ea72e_row18_col7\" class=\"data row18 col7\" >0.002150</td>\n",
       "      <td id=\"T_ea72e_row18_col8\" class=\"data row18 col8\" >-0.001713</td>\n",
       "      <td id=\"T_ea72e_row18_col9\" class=\"data row18 col9\" >0.008720</td>\n",
       "      <td id=\"T_ea72e_row18_col10\" class=\"data row18 col10\" >-0.001128</td>\n",
       "      <td id=\"T_ea72e_row18_col11\" class=\"data row18 col11\" >0.003493</td>\n",
       "      <td id=\"T_ea72e_row18_col12\" class=\"data row18 col12\" >-0.003867</td>\n",
       "      <td id=\"T_ea72e_row18_col13\" class=\"data row18 col13\" >-0.011114</td>\n",
       "      <td id=\"T_ea72e_row18_col14\" class=\"data row18 col14\" >0.038033</td>\n",
       "      <td id=\"T_ea72e_row18_col15\" class=\"data row18 col15\" >-0.086349</td>\n",
       "      <td id=\"T_ea72e_row18_col16\" class=\"data row18 col16\" >-0.024977</td>\n",
       "      <td id=\"T_ea72e_row18_col17\" class=\"data row18 col17\" >0.005001</td>\n",
       "      <td id=\"T_ea72e_row18_col18\" class=\"data row18 col18\" >1.000000</td>\n",
       "      <td id=\"T_ea72e_row18_col19\" class=\"data row18 col19\" >0.014073</td>\n",
       "      <td id=\"T_ea72e_row18_col20\" class=\"data row18 col20\" >-0.089798</td>\n",
       "      <td id=\"T_ea72e_row18_col21\" class=\"data row18 col21\" >0.001127</td>\n",
       "      <td id=\"T_ea72e_row18_col22\" class=\"data row18 col22\" >0.006211</td>\n",
       "    </tr>\n",
       "    <tr>\n",
       "      <th id=\"T_ea72e_level0_row19\" class=\"row_heading level0 row19\" >measurement_15</th>\n",
       "      <td id=\"T_ea72e_row19_col0\" class=\"data row19 col0\" >0.083951</td>\n",
       "      <td id=\"T_ea72e_row19_col1\" class=\"data row19 col1\" >-0.008087</td>\n",
       "      <td id=\"T_ea72e_row19_col2\" class=\"data row19 col2\" >-0.161242</td>\n",
       "      <td id=\"T_ea72e_row19_col3\" class=\"data row19 col3\" >0.187519</td>\n",
       "      <td id=\"T_ea72e_row19_col4\" class=\"data row19 col4\" >-0.055431</td>\n",
       "      <td id=\"T_ea72e_row19_col5\" class=\"data row19 col5\" >0.060870</td>\n",
       "      <td id=\"T_ea72e_row19_col6\" class=\"data row19 col6\" >0.000138</td>\n",
       "      <td id=\"T_ea72e_row19_col7\" class=\"data row19 col7\" >-0.010986</td>\n",
       "      <td id=\"T_ea72e_row19_col8\" class=\"data row19 col8\" >-0.004567</td>\n",
       "      <td id=\"T_ea72e_row19_col9\" class=\"data row19 col9\" >-0.009101</td>\n",
       "      <td id=\"T_ea72e_row19_col10\" class=\"data row19 col10\" >0.000857</td>\n",
       "      <td id=\"T_ea72e_row19_col11\" class=\"data row19 col11\" >-0.003583</td>\n",
       "      <td id=\"T_ea72e_row19_col12\" class=\"data row19 col12\" >0.017337</td>\n",
       "      <td id=\"T_ea72e_row19_col13\" class=\"data row19 col13\" >-0.003587</td>\n",
       "      <td id=\"T_ea72e_row19_col14\" class=\"data row19 col14\" >-0.053829</td>\n",
       "      <td id=\"T_ea72e_row19_col15\" class=\"data row19 col15\" >-0.026127</td>\n",
       "      <td id=\"T_ea72e_row19_col16\" class=\"data row19 col16\" >-0.152583</td>\n",
       "      <td id=\"T_ea72e_row19_col17\" class=\"data row19 col17\" >0.028483</td>\n",
       "      <td id=\"T_ea72e_row19_col18\" class=\"data row19 col18\" >0.014073</td>\n",
       "      <td id=\"T_ea72e_row19_col19\" class=\"data row19 col19\" >1.000000</td>\n",
       "      <td id=\"T_ea72e_row19_col20\" class=\"data row19 col20\" >0.028170</td>\n",
       "      <td id=\"T_ea72e_row19_col21\" class=\"data row19 col21\" >0.003160</td>\n",
       "      <td id=\"T_ea72e_row19_col22\" class=\"data row19 col22\" >-0.003544</td>\n",
       "    </tr>\n",
       "    <tr>\n",
       "      <th id=\"T_ea72e_level0_row20\" class=\"row_heading level0 row20\" >measurement_16</th>\n",
       "      <td id=\"T_ea72e_row20_col0\" class=\"data row20 col0\" >-0.059849</td>\n",
       "      <td id=\"T_ea72e_row20_col1\" class=\"data row20 col1\" >-0.000633</td>\n",
       "      <td id=\"T_ea72e_row20_col2\" class=\"data row20 col2\" >0.035795</td>\n",
       "      <td id=\"T_ea72e_row20_col3\" class=\"data row20 col3\" >-0.061520</td>\n",
       "      <td id=\"T_ea72e_row20_col4\" class=\"data row20 col4\" >0.003025</td>\n",
       "      <td id=\"T_ea72e_row20_col5\" class=\"data row20 col5\" >-0.004509</td>\n",
       "      <td id=\"T_ea72e_row20_col6\" class=\"data row20 col6\" >0.033088</td>\n",
       "      <td id=\"T_ea72e_row20_col7\" class=\"data row20 col7\" >-0.002164</td>\n",
       "      <td id=\"T_ea72e_row20_col8\" class=\"data row20 col8\" >0.002929</td>\n",
       "      <td id=\"T_ea72e_row20_col9\" class=\"data row20 col9\" >-0.002996</td>\n",
       "      <td id=\"T_ea72e_row20_col10\" class=\"data row20 col10\" >-0.004490</td>\n",
       "      <td id=\"T_ea72e_row20_col11\" class=\"data row20 col11\" >-0.009377</td>\n",
       "      <td id=\"T_ea72e_row20_col12\" class=\"data row20 col12\" >0.002242</td>\n",
       "      <td id=\"T_ea72e_row20_col13\" class=\"data row20 col13\" >-0.002176</td>\n",
       "      <td id=\"T_ea72e_row20_col14\" class=\"data row20 col14\" >0.004403</td>\n",
       "      <td id=\"T_ea72e_row20_col15\" class=\"data row20 col15\" >0.091059</td>\n",
       "      <td id=\"T_ea72e_row20_col16\" class=\"data row20 col16\" >0.095430</td>\n",
       "      <td id=\"T_ea72e_row20_col17\" class=\"data row20 col17\" >0.131495</td>\n",
       "      <td id=\"T_ea72e_row20_col18\" class=\"data row20 col18\" >-0.089798</td>\n",
       "      <td id=\"T_ea72e_row20_col19\" class=\"data row20 col19\" >0.028170</td>\n",
       "      <td id=\"T_ea72e_row20_col20\" class=\"data row20 col20\" >1.000000</td>\n",
       "      <td id=\"T_ea72e_row20_col21\" class=\"data row20 col21\" >-0.002607</td>\n",
       "      <td id=\"T_ea72e_row20_col22\" class=\"data row20 col22\" >0.002237</td>\n",
       "    </tr>\n",
       "    <tr>\n",
       "      <th id=\"T_ea72e_level0_row21\" class=\"row_heading level0 row21\" >measurement_17</th>\n",
       "      <td id=\"T_ea72e_row21_col0\" class=\"data row21 col0\" >-0.000983</td>\n",
       "      <td id=\"T_ea72e_row21_col1\" class=\"data row21 col1\" >0.000305</td>\n",
       "      <td id=\"T_ea72e_row21_col2\" class=\"data row21 col2\" >0.004729</td>\n",
       "      <td id=\"T_ea72e_row21_col3\" class=\"data row21 col3\" >-0.001418</td>\n",
       "      <td id=\"T_ea72e_row21_col4\" class=\"data row21 col4\" >0.003351</td>\n",
       "      <td id=\"T_ea72e_row21_col5\" class=\"data row21 col5\" >-0.004651</td>\n",
       "      <td id=\"T_ea72e_row21_col6\" class=\"data row21 col6\" >-0.009596</td>\n",
       "      <td id=\"T_ea72e_row21_col7\" class=\"data row21 col7\" >0.080902</td>\n",
       "      <td id=\"T_ea72e_row21_col8\" class=\"data row21 col8\" >0.193045</td>\n",
       "      <td id=\"T_ea72e_row21_col9\" class=\"data row21 col9\" >0.450024</td>\n",
       "      <td id=\"T_ea72e_row21_col10\" class=\"data row21 col10\" >0.328136</td>\n",
       "      <td id=\"T_ea72e_row21_col11\" class=\"data row21 col11\" >0.330328</td>\n",
       "      <td id=\"T_ea72e_row21_col12\" class=\"data row21 col12\" >0.492839</td>\n",
       "      <td id=\"T_ea72e_row21_col13\" class=\"data row21 col13\" >0.145465</td>\n",
       "      <td id=\"T_ea72e_row21_col14\" class=\"data row21 col14\" >0.000477</td>\n",
       "      <td id=\"T_ea72e_row21_col15\" class=\"data row21 col15\" >-0.011975</td>\n",
       "      <td id=\"T_ea72e_row21_col16\" class=\"data row21 col16\" >-0.005552</td>\n",
       "      <td id=\"T_ea72e_row21_col17\" class=\"data row21 col17\" >-0.013250</td>\n",
       "      <td id=\"T_ea72e_row21_col18\" class=\"data row21 col18\" >0.001127</td>\n",
       "      <td id=\"T_ea72e_row21_col19\" class=\"data row21 col19\" >0.003160</td>\n",
       "      <td id=\"T_ea72e_row21_col20\" class=\"data row21 col20\" >-0.002607</td>\n",
       "      <td id=\"T_ea72e_row21_col21\" class=\"data row21 col21\" >1.000000</td>\n",
       "      <td id=\"T_ea72e_row21_col22\" class=\"data row21 col22\" >0.033905</td>\n",
       "    </tr>\n",
       "    <tr>\n",
       "      <th id=\"T_ea72e_level0_row22\" class=\"row_heading level0 row22\" >failure</th>\n",
       "      <td id=\"T_ea72e_row22_col0\" class=\"data row22 col0\" >-0.007545</td>\n",
       "      <td id=\"T_ea72e_row22_col1\" class=\"data row22 col1\" >0.129089</td>\n",
       "      <td id=\"T_ea72e_row22_col2\" class=\"data row22 col2\" >0.006337</td>\n",
       "      <td id=\"T_ea72e_row22_col3\" class=\"data row22 col3\" >-0.019222</td>\n",
       "      <td id=\"T_ea72e_row22_col4\" class=\"data row22 col4\" >0.009646</td>\n",
       "      <td id=\"T_ea72e_row22_col5\" class=\"data row22 col5\" >-0.010810</td>\n",
       "      <td id=\"T_ea72e_row22_col6\" class=\"data row22 col6\" >0.015808</td>\n",
       "      <td id=\"T_ea72e_row22_col7\" class=\"data row22 col7\" >0.003577</td>\n",
       "      <td id=\"T_ea72e_row22_col8\" class=\"data row22 col8\" >-0.010488</td>\n",
       "      <td id=\"T_ea72e_row22_col9\" class=\"data row22 col9\" >0.018079</td>\n",
       "      <td id=\"T_ea72e_row22_col10\" class=\"data row22 col10\" >0.014791</td>\n",
       "      <td id=\"T_ea72e_row22_col11\" class=\"data row22 col11\" >0.016787</td>\n",
       "      <td id=\"T_ea72e_row22_col12\" class=\"data row22 col12\" >0.017119</td>\n",
       "      <td id=\"T_ea72e_row22_col13\" class=\"data row22 col13\" >-0.003587</td>\n",
       "      <td id=\"T_ea72e_row22_col14\" class=\"data row22 col14\" >-0.001515</td>\n",
       "      <td id=\"T_ea72e_row22_col15\" class=\"data row22 col15\" >-0.004801</td>\n",
       "      <td id=\"T_ea72e_row22_col16\" class=\"data row22 col16\" >0.004398</td>\n",
       "      <td id=\"T_ea72e_row22_col17\" class=\"data row22 col17\" >-0.001831</td>\n",
       "      <td id=\"T_ea72e_row22_col18\" class=\"data row22 col18\" >0.006211</td>\n",
       "      <td id=\"T_ea72e_row22_col19\" class=\"data row22 col19\" >-0.003544</td>\n",
       "      <td id=\"T_ea72e_row22_col20\" class=\"data row22 col20\" >0.002237</td>\n",
       "      <td id=\"T_ea72e_row22_col21\" class=\"data row22 col21\" >0.033905</td>\n",
       "      <td id=\"T_ea72e_row22_col22\" class=\"data row22 col22\" >1.000000</td>\n",
       "    </tr>\n",
       "  </tbody>\n",
       "</table>\n"
      ],
      "text/plain": [
       "<pandas.io.formats.style.Styler at 0x7f4e25bf7f50>"
      ]
     },
     "execution_count": 17,
     "metadata": {},
     "output_type": "execute_result"
    }
   ],
   "source": [
    "# To check corelation\n",
    "\n",
    "import seaborn as sns\n",
    "rs = np.random.RandomState(0)\n",
    "df = pd.DataFrame(rs.rand(10, 10))\n",
    "corr = df_train.corr()\n",
    "corr.style.background_gradient(cmap='coolwarm')"
   ]
  },
  {
   "cell_type": "markdown",
   "id": "4f073bce",
   "metadata": {
    "papermill": {
     "duration": 0.012754,
     "end_time": "2022-08-19T07:15:50.850149",
     "exception": false,
     "start_time": "2022-08-19T07:15:50.837395",
     "status": "completed"
    },
    "tags": []
   },
   "source": [
    "# Dummies use check it :https://www.sharpsightlabs.com/blog/pandas-get-dummies/"
   ]
  },
  {
   "cell_type": "code",
   "execution_count": 18,
   "id": "642e31ac",
   "metadata": {
    "execution": {
     "iopub.execute_input": "2022-08-19T07:15:50.877320Z",
     "iopub.status.busy": "2022-08-19T07:15:50.876876Z",
     "iopub.status.idle": "2022-08-19T07:15:50.913297Z",
     "shell.execute_reply": "2022-08-19T07:15:50.912036Z"
    },
    "papermill": {
     "duration": 0.053249,
     "end_time": "2022-08-19T07:15:50.916218",
     "exception": false,
     "start_time": "2022-08-19T07:15:50.862969",
     "status": "completed"
    },
    "tags": []
   },
   "outputs": [],
   "source": [
    "\n",
    "\n",
    "df_final_one = pd.get_dummies(df_final)"
   ]
  },
  {
   "cell_type": "code",
   "execution_count": 19,
   "id": "af78bdc4",
   "metadata": {
    "execution": {
     "iopub.execute_input": "2022-08-19T07:15:50.943042Z",
     "iopub.status.busy": "2022-08-19T07:15:50.942321Z",
     "iopub.status.idle": "2022-08-19T07:15:50.962842Z",
     "shell.execute_reply": "2022-08-19T07:15:50.960537Z"
    },
    "papermill": {
     "duration": 0.037929,
     "end_time": "2022-08-19T07:15:50.966455",
     "exception": false,
     "start_time": "2022-08-19T07:15:50.928526",
     "status": "completed"
    },
    "tags": []
   },
   "outputs": [
    {
     "name": "stdout",
     "output_type": "stream",
     "text": [
      "<class 'pandas.core.frame.DataFrame'>\n",
      "Int64Index: 47345 entries, 0 to 20774\n",
      "Data columns (total 27 columns):\n",
      " #   Column                  Non-Null Count  Dtype  \n",
      "---  ------                  --------------  -----  \n",
      " 0   loading                 47345 non-null  float64\n",
      " 1   attribute_2             47345 non-null  int64  \n",
      " 2   attribute_3             47345 non-null  int64  \n",
      " 3   measurement_0           47345 non-null  int64  \n",
      " 4   measurement_1           47345 non-null  int64  \n",
      " 5   measurement_2           47345 non-null  int64  \n",
      " 6   measurement_3           47345 non-null  float64\n",
      " 7   measurement_4           47345 non-null  float64\n",
      " 8   measurement_5           47345 non-null  float64\n",
      " 9   measurement_6           47345 non-null  float64\n",
      " 10  measurement_7           47345 non-null  float64\n",
      " 11  measurement_8           47345 non-null  float64\n",
      " 12  measurement_9           47345 non-null  float64\n",
      " 13  measurement_10          47345 non-null  float64\n",
      " 14  measurement_11          47345 non-null  float64\n",
      " 15  measurement_12          47345 non-null  float64\n",
      " 16  measurement_13          47345 non-null  float64\n",
      " 17  measurement_14          47345 non-null  float64\n",
      " 18  measurement_15          47345 non-null  float64\n",
      " 19  measurement_16          47345 non-null  float64\n",
      " 20  measurement_17          47345 non-null  float64\n",
      " 21  attribute_0_material_5  47345 non-null  uint8  \n",
      " 22  attribute_0_material_7  47345 non-null  uint8  \n",
      " 23  attribute_1_material_5  47345 non-null  uint8  \n",
      " 24  attribute_1_material_6  47345 non-null  uint8  \n",
      " 25  attribute_1_material_7  47345 non-null  uint8  \n",
      " 26  attribute_1_material_8  47345 non-null  uint8  \n",
      "dtypes: float64(16), int64(5), uint8(6)\n",
      "memory usage: 8.2 MB\n"
     ]
    }
   ],
   "source": [
    "\n",
    "# To once more check on data\n",
    "df_final_one.info()"
   ]
  },
  {
   "cell_type": "markdown",
   "id": "136c2966",
   "metadata": {
    "papermill": {
     "duration": 0.012699,
     "end_time": "2022-08-19T07:15:50.992141",
     "exception": false,
     "start_time": "2022-08-19T07:15:50.979442",
     "status": "completed"
    },
    "tags": []
   },
   "source": [
    "# Seperating the data"
   ]
  },
  {
   "cell_type": "code",
   "execution_count": 20,
   "id": "87582681",
   "metadata": {
    "execution": {
     "iopub.execute_input": "2022-08-19T07:15:51.019665Z",
     "iopub.status.busy": "2022-08-19T07:15:51.019210Z",
     "iopub.status.idle": "2022-08-19T07:15:51.024936Z",
     "shell.execute_reply": "2022-08-19T07:15:51.023709Z"
    },
    "papermill": {
     "duration": 0.022672,
     "end_time": "2022-08-19T07:15:51.027562",
     "exception": false,
     "start_time": "2022-08-19T07:15:51.004890",
     "status": "completed"
    },
    "tags": []
   },
   "outputs": [],
   "source": [
    "# Seperation on train and test data\n",
    "df_train_r =df_final_one[:26570]\n",
    "df_test_e = df_final_one[26570 :]"
   ]
  },
  {
   "cell_type": "markdown",
   "id": "4c6bd3fa",
   "metadata": {
    "papermill": {
     "duration": 0.012034,
     "end_time": "2022-08-19T07:15:51.052123",
     "exception": false,
     "start_time": "2022-08-19T07:15:51.040089",
     "status": "completed"
    },
    "tags": []
   },
   "source": [
    "# Scaling usage\n",
    "# https://www.analyticsvidhya.com/blog/2021/05/feature-scaling-techniques-in-python-a-complete-guide/\n"
   ]
  },
  {
   "cell_type": "code",
   "execution_count": 21,
   "id": "5b8c5eb8",
   "metadata": {
    "execution": {
     "iopub.execute_input": "2022-08-19T07:15:51.078697Z",
     "iopub.status.busy": "2022-08-19T07:15:51.078247Z",
     "iopub.status.idle": "2022-08-19T07:15:51.131985Z",
     "shell.execute_reply": "2022-08-19T07:15:51.130704Z"
    },
    "papermill": {
     "duration": 0.070452,
     "end_time": "2022-08-19T07:15:51.134835",
     "exception": false,
     "start_time": "2022-08-19T07:15:51.064383",
     "status": "completed"
    },
    "tags": []
   },
   "outputs": [],
   "source": [
    "\n",
    "from sklearn.preprocessing import StandardScaler\n",
    "scaler = StandardScaler()\n",
    "Scale_train = scaler.fit_transform(df_train_r)\n",
    "Scale_test  = scaler.fit_transform(df_test_e)"
   ]
  },
  {
   "cell_type": "markdown",
   "id": "951e9891",
   "metadata": {
    "papermill": {
     "duration": 0.012145,
     "end_time": "2022-08-19T07:15:51.159911",
     "exception": false,
     "start_time": "2022-08-19T07:15:51.147766",
     "status": "completed"
    },
    "tags": []
   },
   "source": [
    "# Create training and testing partitions\n"
   ]
  },
  {
   "cell_type": "code",
   "execution_count": 22,
   "id": "08d7400c",
   "metadata": {
    "execution": {
     "iopub.execute_input": "2022-08-19T07:15:51.186841Z",
     "iopub.status.busy": "2022-08-19T07:15:51.186026Z",
     "iopub.status.idle": "2022-08-19T07:15:51.201997Z",
     "shell.execute_reply": "2022-08-19T07:15:51.200575Z"
    },
    "papermill": {
     "duration": 0.032616,
     "end_time": "2022-08-19T07:15:51.204884",
     "exception": false,
     "start_time": "2022-08-19T07:15:51.172268",
     "status": "completed"
    },
    "tags": []
   },
   "outputs": [],
   "source": [
    "\n",
    "X_train, X_test, y_train, y_test = train_test_split(Scale_train, Y,shuffle=True, test_size=0.3)"
   ]
  },
  {
   "cell_type": "code",
   "execution_count": 23,
   "id": "fd0dd9e7",
   "metadata": {
    "execution": {
     "iopub.execute_input": "2022-08-19T07:15:51.231809Z",
     "iopub.status.busy": "2022-08-19T07:15:51.231387Z",
     "iopub.status.idle": "2022-08-19T07:15:51.238735Z",
     "shell.execute_reply": "2022-08-19T07:15:51.237479Z"
    },
    "papermill": {
     "duration": 0.023758,
     "end_time": "2022-08-19T07:15:51.241221",
     "exception": false,
     "start_time": "2022-08-19T07:15:51.217463",
     "status": "completed"
    },
    "tags": []
   },
   "outputs": [
    {
     "data": {
      "text/plain": [
       "((18599, 27), (7971, 27), (18599,), (7971,))"
      ]
     },
     "execution_count": 23,
     "metadata": {},
     "output_type": "execute_result"
    }
   ],
   "source": [
    "# Model bananey sey pehley shape kar lo jarrori ....kya pata kuch alag na dikh jaye heheheh\n",
    "X_train.shape, X_test.shape,y_train.shape, y_test.shape\n"
   ]
  },
  {
   "cell_type": "markdown",
   "id": "8181218f",
   "metadata": {
    "papermill": {
     "duration": 0.012284,
     "end_time": "2022-08-19T07:15:51.266250",
     "exception": false,
     "start_time": "2022-08-19T07:15:51.253966",
     "status": "completed"
    },
    "tags": []
   },
   "source": [
    "# https://medium.com/@neuralthreads/selu-and-elu-exponential-linear-units-a826d5eeb99c\n",
    "# Lets give rest to relu now ..try other act funcion\n",
    "# like selu,elu ya Gelu bhi try kar lo "
   ]
  },
  {
   "cell_type": "code",
   "execution_count": 24,
   "id": "c9ecd99d",
   "metadata": {
    "execution": {
     "iopub.execute_input": "2022-08-19T07:15:51.293040Z",
     "iopub.status.busy": "2022-08-19T07:15:51.292620Z",
     "iopub.status.idle": "2022-08-19T07:15:51.392168Z",
     "shell.execute_reply": "2022-08-19T07:15:51.390804Z"
    },
    "papermill": {
     "duration": 0.116419,
     "end_time": "2022-08-19T07:15:51.395091",
     "exception": false,
     "start_time": "2022-08-19T07:15:51.278672",
     "status": "completed"
    },
    "tags": []
   },
   "outputs": [
    {
     "name": "stderr",
     "output_type": "stream",
     "text": [
      "2022-08-19 07:15:51.358332: I tensorflow/core/common_runtime/process_util.cc:146] Creating new thread pool with default inter op setting: 2. Tune using inter_op_parallelism_threads for best performance.\n"
     ]
    }
   ],
   "source": [
    "\n",
    "\n",
    "tf.keras.activations.gelu\n",
    "tf.keras.activations.selu\n",
    "tf.keras.activations.elu\n",
    "\n",
    "\n",
    "model = tf.keras.Sequential([\n",
    "  tf.keras.layers.Dense(2024, activation=\"selu\"),\n",
    "  tf.keras.layers.Dropout(0.2),\n",
    "  tf.keras.layers.Dense(1512, activation=\"selu\"),\n",
    "  tf.keras.layers.Dropout(0.2),\n",
    "  tf.keras.layers.Dense(512, activation=\"selu\"),\n",
    "  tf.keras.layers.Dropout(0.2),\n",
    "  tf.keras.layers.Dense(256, activation=\"selu\"),\n",
    "  tf.keras.layers.Dropout(0.2),\n",
    "  tf.keras.layers.Dense(128, activation=\"selu\"),\n",
    "  tf.keras.layers.Dropout(0.2),\n",
    "  tf.keras.layers.Dense(64, activation=\"selu\"),\n",
    "  tf.keras.layers.Dropout(0.2),\n",
    "  tf.keras.layers.Dense(32, activation=\"selu\"),\n",
    "  tf.keras.layers.Dropout(0.2),\n",
    "  tf.keras.layers.Dense(16, activation=\"selu\"),\n",
    "  tf.keras.layers.Dropout(0.2),\n",
    "  tf.keras.layers.Dense(8, activation=\"selu\"),\n",
    "  tf.keras.layers.Dense(1, activation=\"sigmoid\")    \n",
    "])\n",
    "\n",
    "\n",
    "\n"
   ]
  },
  {
   "cell_type": "markdown",
   "id": "3e328035",
   "metadata": {
    "papermill": {
     "duration": 0.012727,
     "end_time": "2022-08-19T07:15:51.420627",
     "exception": false,
     "start_time": "2022-08-19T07:15:51.407900",
     "status": "completed"
    },
    "tags": []
   },
   "source": [
    "# Early stopping criteria"
   ]
  },
  {
   "cell_type": "code",
   "execution_count": 25,
   "id": "b12f9ac9",
   "metadata": {
    "execution": {
     "iopub.execute_input": "2022-08-19T07:15:51.448828Z",
     "iopub.status.busy": "2022-08-19T07:15:51.448321Z",
     "iopub.status.idle": "2022-08-19T07:15:51.453499Z",
     "shell.execute_reply": "2022-08-19T07:15:51.452510Z"
    },
    "papermill": {
     "duration": 0.022545,
     "end_time": "2022-08-19T07:15:51.455791",
     "exception": false,
     "start_time": "2022-08-19T07:15:51.433246",
     "status": "completed"
    },
    "tags": []
   },
   "outputs": [],
   "source": [
    "\n",
    "\n",
    "early_stopping = callbacks.EarlyStopping(monitor=\"val_loss\",patience=15,restore_best_weights=True)\n"
   ]
  },
  {
   "cell_type": "markdown",
   "id": "5c23bce9",
   "metadata": {
    "papermill": {
     "duration": 0.012192,
     "end_time": "2022-08-19T07:15:51.480525",
     "exception": false,
     "start_time": "2022-08-19T07:15:51.468333",
     "status": "completed"
    },
    "tags": []
   },
   "source": [
    "# Ek Lambi katha ReduceLROnPlateau key liye dedticated hai :\n",
    "# Reduce learning rate when a metric has stopped improving.\n",
    "# Models often benefit from reducing the learning rate by a factor of 2-10 once learning stagnates. This callback monitors a quantity and if no improvement is seen for a 'patience' number of epochs, the learning rate is reduced.\n",
    "# More info on below link\n",
    "# :https://keras.io/api/callbacks/reduce_lr_on_plateau/"
   ]
  },
  {
   "cell_type": "code",
   "execution_count": 26,
   "id": "e645194c",
   "metadata": {
    "execution": {
     "iopub.execute_input": "2022-08-19T07:15:51.509292Z",
     "iopub.status.busy": "2022-08-19T07:15:51.508392Z",
     "iopub.status.idle": "2022-08-19T07:15:51.513507Z",
     "shell.execute_reply": "2022-08-19T07:15:51.512636Z"
    },
    "papermill": {
     "duration": 0.021635,
     "end_time": "2022-08-19T07:15:51.515850",
     "exception": false,
     "start_time": "2022-08-19T07:15:51.494215",
     "status": "completed"
    },
    "tags": []
   },
   "outputs": [],
   "source": [
    "reduce_lr = callbacks.ReduceLROnPlateau(monitor='val_loss', factor=0.1 ,patience=5,min_lr=0.001)"
   ]
  },
  {
   "cell_type": "code",
   "execution_count": 27,
   "id": "e4ebb421",
   "metadata": {
    "execution": {
     "iopub.execute_input": "2022-08-19T07:15:51.543405Z",
     "iopub.status.busy": "2022-08-19T07:15:51.542709Z",
     "iopub.status.idle": "2022-08-19T07:15:51.573616Z",
     "shell.execute_reply": "2022-08-19T07:15:51.572632Z"
    },
    "papermill": {
     "duration": 0.048143,
     "end_time": "2022-08-19T07:15:51.576452",
     "exception": false,
     "start_time": "2022-08-19T07:15:51.528309",
     "status": "completed"
    },
    "tags": []
   },
   "outputs": [],
   "source": [
    "# To Comiple the model\n",
    "model.compile(loss=tf.keras.losses.BinaryCrossentropy(),\n",
    "              \n",
    "#otpimizer to take care on learning rate \n",
    "              \n",
    "optimizer=tf.keras.optimizers.Adam(learning_rate=0.0006),           \n",
    "# to check on perfromance by means of metric\n",
    "metrics=[\"accuracy\"])\n",
    "           \n",
    "# More info can be gone thru  ..https://machinelearningmastery.com/custom-metrics-deep-learning-keras-python/"
   ]
  },
  {
   "cell_type": "code",
   "execution_count": 28,
   "id": "5bde0b67",
   "metadata": {
    "execution": {
     "iopub.execute_input": "2022-08-19T07:15:51.604798Z",
     "iopub.status.busy": "2022-08-19T07:15:51.604124Z",
     "iopub.status.idle": "2022-08-19T07:24:43.683065Z",
     "shell.execute_reply": "2022-08-19T07:24:43.681104Z"
    },
    "papermill": {
     "duration": 532.096464,
     "end_time": "2022-08-19T07:24:43.686247",
     "exception": false,
     "start_time": "2022-08-19T07:15:51.589783",
     "status": "completed"
    },
    "tags": []
   },
   "outputs": [
    {
     "name": "stderr",
     "output_type": "stream",
     "text": [
      "2022-08-19 07:15:51.717418: I tensorflow/compiler/mlir/mlir_graph_optimization_pass.cc:185] None of the MLIR Optimization Passes are enabled (registered 2)\n"
     ]
    },
    {
     "name": "stdout",
     "output_type": "stream",
     "text": [
      "Epoch 1/30\n",
      "582/582 [==============================] - 20s 31ms/step - loss: 0.5827 - accuracy: 0.7627 - val_loss: 0.5249 - val_accuracy: 0.7836\n",
      "Epoch 2/30\n",
      "582/582 [==============================] - 17s 30ms/step - loss: 0.5231 - accuracy: 0.7867 - val_loss: 0.5212 - val_accuracy: 0.7836\n",
      "Epoch 3/30\n",
      "582/582 [==============================] - 18s 31ms/step - loss: 0.5165 - accuracy: 0.7872 - val_loss: 0.5207 - val_accuracy: 0.7836\n",
      "Epoch 4/30\n",
      "582/582 [==============================] - 17s 29ms/step - loss: 0.5136 - accuracy: 0.7881 - val_loss: 0.5168 - val_accuracy: 0.7836\n",
      "Epoch 5/30\n",
      "582/582 [==============================] - 18s 30ms/step - loss: 0.5133 - accuracy: 0.7880 - val_loss: 0.5196 - val_accuracy: 0.7836\n",
      "Epoch 6/30\n",
      "582/582 [==============================] - 18s 31ms/step - loss: 0.5140 - accuracy: 0.7882 - val_loss: 0.5213 - val_accuracy: 0.7836\n",
      "Epoch 7/30\n",
      "582/582 [==============================] - 17s 29ms/step - loss: 0.5141 - accuracy: 0.7875 - val_loss: 0.5176 - val_accuracy: 0.7836\n",
      "Epoch 8/30\n",
      "582/582 [==============================] - 18s 30ms/step - loss: 0.5137 - accuracy: 0.7880 - val_loss: 0.5196 - val_accuracy: 0.7836\n",
      "Epoch 9/30\n",
      "582/582 [==============================] - 18s 30ms/step - loss: 0.5099 - accuracy: 0.7884 - val_loss: 0.5173 - val_accuracy: 0.7836\n",
      "Epoch 10/30\n",
      "582/582 [==============================] - 18s 31ms/step - loss: 0.5113 - accuracy: 0.7879 - val_loss: 0.5176 - val_accuracy: 0.7836\n",
      "Epoch 11/30\n",
      "582/582 [==============================] - 17s 30ms/step - loss: 0.5115 - accuracy: 0.7888 - val_loss: 0.5194 - val_accuracy: 0.7836\n",
      "Epoch 12/30\n",
      "582/582 [==============================] - 18s 31ms/step - loss: 0.5113 - accuracy: 0.7888 - val_loss: 0.5183 - val_accuracy: 0.7836\n",
      "Epoch 13/30\n",
      "582/582 [==============================] - 17s 29ms/step - loss: 0.5115 - accuracy: 0.7889 - val_loss: 0.5186 - val_accuracy: 0.7836\n",
      "Epoch 14/30\n",
      "582/582 [==============================] - 18s 30ms/step - loss: 0.5115 - accuracy: 0.7889 - val_loss: 0.5182 - val_accuracy: 0.7836\n",
      "Epoch 15/30\n",
      "582/582 [==============================] - 17s 30ms/step - loss: 0.5105 - accuracy: 0.7879 - val_loss: 0.5181 - val_accuracy: 0.7836\n",
      "Epoch 16/30\n",
      "582/582 [==============================] - 18s 30ms/step - loss: 0.5113 - accuracy: 0.7880 - val_loss: 0.5182 - val_accuracy: 0.7836\n",
      "Epoch 17/30\n",
      "582/582 [==============================] - 17s 29ms/step - loss: 0.5107 - accuracy: 0.7887 - val_loss: 0.5164 - val_accuracy: 0.7836\n",
      "Epoch 18/30\n",
      "582/582 [==============================] - 18s 30ms/step - loss: 0.5115 - accuracy: 0.7886 - val_loss: 0.5186 - val_accuracy: 0.7836\n",
      "Epoch 19/30\n",
      "582/582 [==============================] - 17s 30ms/step - loss: 0.5104 - accuracy: 0.7892 - val_loss: 0.5190 - val_accuracy: 0.7836\n",
      "Epoch 20/30\n",
      "582/582 [==============================] - 18s 31ms/step - loss: 0.5113 - accuracy: 0.7888 - val_loss: 0.5174 - val_accuracy: 0.7836\n",
      "Epoch 21/30\n",
      "582/582 [==============================] - 18s 31ms/step - loss: 0.5104 - accuracy: 0.7886 - val_loss: 0.5181 - val_accuracy: 0.7836\n",
      "Epoch 22/30\n",
      "582/582 [==============================] - 18s 30ms/step - loss: 0.5107 - accuracy: 0.7883 - val_loss: 0.5180 - val_accuracy: 0.7836\n",
      "Epoch 23/30\n",
      "582/582 [==============================] - 18s 32ms/step - loss: 0.5096 - accuracy: 0.7886 - val_loss: 0.5180 - val_accuracy: 0.7836\n",
      "Epoch 24/30\n",
      "582/582 [==============================] - 17s 29ms/step - loss: 0.5091 - accuracy: 0.7888 - val_loss: 0.5217 - val_accuracy: 0.7836\n",
      "Epoch 25/30\n",
      "582/582 [==============================] - 18s 31ms/step - loss: 0.5107 - accuracy: 0.7889 - val_loss: 0.5169 - val_accuracy: 0.7836\n",
      "Epoch 26/30\n",
      "582/582 [==============================] - 17s 29ms/step - loss: 0.5092 - accuracy: 0.7890 - val_loss: 0.5173 - val_accuracy: 0.7836\n",
      "Epoch 27/30\n",
      "582/582 [==============================] - 18s 31ms/step - loss: 0.5092 - accuracy: 0.7888 - val_loss: 0.5196 - val_accuracy: 0.7836\n",
      "Epoch 28/30\n",
      "582/582 [==============================] - 17s 30ms/step - loss: 0.5096 - accuracy: 0.7889 - val_loss: 0.5188 - val_accuracy: 0.7836\n",
      "Epoch 29/30\n",
      "582/582 [==============================] - 18s 32ms/step - loss: 0.5092 - accuracy: 0.7888 - val_loss: 0.5180 - val_accuracy: 0.7836\n",
      "Epoch 30/30\n",
      "582/582 [==============================] - 18s 31ms/step - loss: 0.5081 - accuracy: 0.7888 - val_loss: 0.5184 - val_accuracy: 0.7836\n"
     ]
    }
   ],
   "source": [
    "\n",
    "Pehleyfithoja = model.fit(X_train,y_train,epochs=30,callbacks=[early_stopping,reduce_lr],validation_data=(X_test, y_test))"
   ]
  },
  {
   "cell_type": "code",
   "execution_count": 29,
   "id": "c5808d3c",
   "metadata": {
    "execution": {
     "iopub.execute_input": "2022-08-19T07:24:44.879500Z",
     "iopub.status.busy": "2022-08-19T07:24:44.878801Z",
     "iopub.status.idle": "2022-08-19T07:24:45.209144Z",
     "shell.execute_reply": "2022-08-19T07:24:45.207894Z"
    },
    "papermill": {
     "duration": 0.897327,
     "end_time": "2022-08-19T07:24:45.212048",
     "exception": false,
     "start_time": "2022-08-19T07:24:44.314721",
     "status": "completed"
    },
    "tags": []
   },
   "outputs": [
    {
     "data": {
      "text/plain": [
       "<AxesSubplot:>"
      ]
     },
     "execution_count": 29,
     "metadata": {},
     "output_type": "execute_result"
    },
    {
     "data": {
      "image/png": "[encoded data removed]",
      "text/plain": [
       "<Figure size 432x288 with 1 Axes>"
      ]
     },
     "metadata": {
      "needs_background": "light"
     },
     "output_type": "display_data"
    }
   ],
   "source": [
    "# To check on plot :(\n",
    "pd.DataFrame(Pehleyfithoja.history).plot()"
   ]
  },
  {
   "cell_type": "code",
   "execution_count": 30,
   "id": "fee27fb7",
   "metadata": {
    "execution": {
     "iopub.execute_input": "2022-08-19T07:24:46.430359Z",
     "iopub.status.busy": "2022-08-19T07:24:46.429881Z",
     "iopub.status.idle": "2022-08-19T07:24:50.821269Z",
     "shell.execute_reply": "2022-08-19T07:24:50.820208Z"
    },
    "papermill": {
     "duration": 5.021147,
     "end_time": "2022-08-19T07:24:50.824265",
     "exception": false,
     "start_time": "2022-08-19T07:24:45.803118",
     "status": "completed"
    },
    "tags": []
   },
   "outputs": [],
   "source": [
    "correcthaikya = model.predict(Scale_test )\n",
    "correcthaikya = correcthaikya.reshape(20775,)"
   ]
  },
  {
   "cell_type": "code",
   "execution_count": 31,
   "id": "a75afc65",
   "metadata": {
    "execution": {
     "iopub.execute_input": "2022-08-19T07:24:51.962919Z",
     "iopub.status.busy": "2022-08-19T07:24:51.962439Z",
     "iopub.status.idle": "2022-08-19T07:24:51.969140Z",
     "shell.execute_reply": "2022-08-19T07:24:51.968177Z"
    },
    "papermill": {
     "duration": 0.586971,
     "end_time": "2022-08-19T07:24:51.971618",
     "exception": false,
     "start_time": "2022-08-19T07:24:51.384647",
     "status": "completed"
    },
    "tags": []
   },
   "outputs": [
    {
     "data": {
      "text/plain": [
       "array([0.22481987, 0.17167762, 0.19556314, ..., 0.17193419, 0.2675004 ,\n",
       "       0.18704095], dtype=float32)"
      ]
     },
     "execution_count": 31,
     "metadata": {},
     "output_type": "execute_result"
    }
   ],
   "source": [
    "correcthaikya"
   ]
  },
  {
   "cell_type": "code",
   "execution_count": 32,
   "id": "a9f4b780",
   "metadata": {
    "execution": {
     "iopub.execute_input": "2022-08-19T07:24:53.136175Z",
     "iopub.status.busy": "2022-08-19T07:24:53.135234Z",
     "iopub.status.idle": "2022-08-19T07:24:53.184104Z",
     "shell.execute_reply": "2022-08-19T07:24:53.183082Z"
    },
    "papermill": {
     "duration": 0.668653,
     "end_time": "2022-08-19T07:24:53.186734",
     "exception": false,
     "start_time": "2022-08-19T07:24:52.518081",
     "status": "completed"
    },
    "tags": []
   },
   "outputs": [],
   "source": [
    "# Finally\n",
    "\n",
    "sample['failure'] = correcthaikya\n",
    "sample.to_csv('submission.csv', index=False)"
   ]
  },
  {
   "cell_type": "markdown",
   "id": "8a831a37",
   "metadata": {
    "papermill": {
     "duration": 0.565601,
     "end_time": "2022-08-19T07:24:54.298643",
     "exception": false,
     "start_time": "2022-08-19T07:24:53.733042",
     "status": "completed"
    },
    "tags": []
   },
   "source": [
    "# Pls Vote, Comment......aur ...share heheheeh"
   ]
  }
 ],
 "metadata": {
  "kernelspec": {
   "display_name": "Python 3",
   "language": "python",
   "name": "python3"
  },
  "language_info": {
   "codemirror_mode": {
    "name": "ipython",
    "version": 3
   },
   "file_extension": ".py",
   "mimetype": "text/x-python",
   "name": "python",
   "nbconvert_exporter": "python",
   "pygments_lexer": "ipython3",
   "version": "3.7.12"
  },
  "papermill": {
   "default_parameters": {},
   "duration": 567.97005,
   "end_time": "2022-08-19T07:24:58.145937",
   "environment_variables": {},
   "exception": null,
   "input_path": "__notebook__.ipynb",
   "output_path": "__notebook__.ipynb",
   "parameters": {},
   "start_time": "2022-08-19T07:15:30.175887",
   "version": "2.3.4"
  }
 },
 "nbformat": 4,
 "nbformat_minor": 5
}
